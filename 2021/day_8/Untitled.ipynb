{
 "cells": [
  {
   "cell_type": "code",
   "execution_count": null,
   "id": "6fa7e59a",
   "metadata": {},
   "outputs": [],
   "source": [
    "f = open('input', 'r').read().split('\\n')[:-1]"
   ]
  },
  {
   "cell_type": "code",
   "execution_count": null,
   "id": "c15803b8",
   "metadata": {},
   "outputs": [],
   "source": [
    "f1 = [x.split(' | ') for x in f]"
   ]
  },
  {
   "cell_type": "code",
   "execution_count": null,
   "id": "09fda455",
   "metadata": {},
   "outputs": [],
   "source": [
    "f1 = [[y.split(' ') for y in x] for x in f1]"
   ]
  },
  {
   "cell_type": "code",
   "execution_count": null,
   "id": "ee804554",
   "metadata": {},
   "outputs": [],
   "source": [
    "letters = ['a' 'b', 'c', 'd', 'e', 'f', 'g']\n",
    "digit = 7 * ['']"
   ]
  },
  {
   "cell_type": "code",
   "execution_count": null,
   "id": "c424c5fc",
   "metadata": {},
   "outputs": [],
   "source": [
    "inp1 = f1"
   ]
  },
  {
   "cell_type": "code",
   "execution_count": null,
   "id": "5f14beeb",
   "metadata": {},
   "outputs": [],
   "source": [
    "inp1"
   ]
  },
  {
   "cell_type": "code",
   "execution_count": null,
   "id": "e32d60c4",
   "metadata": {},
   "outputs": [],
   "source": [
    "def replace(inp, letters):\n",
    "    for l in letters:\n",
    "        inp = inp.replace(l, '')\n",
    "    return inp"
   ]
  },
  {
   "cell_type": "code",
   "execution_count": null,
   "id": "0773d895",
   "metadata": {},
   "outputs": [],
   "source": [
    "def determine_struc(inp1):\n",
    "    digit = 7 * ['']\n",
    "    digitc = {'a': 0,'b': 0,'c': 0,'d': 0,'e': 0,'f': 0,'g': 0}\n",
    "    letters = 10 * ['']\n",
    "\n",
    "    # uniques = 1, 4, 7, 8\n",
    "    letters[1] = list(filter(lambda x: len(x) == 2, inp1))[0]\n",
    "    letters[4] = list(filter(lambda x: len(x) == 4, inp1))[0]\n",
    "    letters[7] = list(filter(lambda x: len(x) == 3, inp1))[0]\n",
    "    letters[8] = list(filter(lambda x: len(x) == 7, inp1))[0]\n",
    "\n",
    "    # digit[0]\n",
    "    # if any(len(x) == 2 for x in inp1) and any(len(x) == 3 for x in inp1):\n",
    "    d1 = [x for x in inp1 if len(x) == 2][0]\n",
    "    d7 = [x for x in inp1 if len(x) == 3][0]\n",
    "\n",
    "    for i in d1:\n",
    "        d7 = d7.replace(i, '')\n",
    "\n",
    "    digit[0] = d7[0]\n",
    "\n",
    "    # non unique letters, deduct the 6\n",
    "    letters[6] = list(filter(lambda x: not all(y in x for y in letters[1]), \n",
    "                             list(filter(lambda x: len(x) == 6, inp1))))[0]\n",
    "\n",
    "    digit[2] = list(filter(lambda x: x not in letters[6], list(letters[1])))[0]\n",
    "    digit[5] = list(filter(lambda x: digit[2] != x, list(letters[1])))[0]\n",
    "\n",
    "    # non unique letters, 9 and 5 are equal after deducting some stuff find last digit\n",
    "    filtered_inp1 = [x for x in inp1 if x not in letters]\n",
    "    d59 = [\"\".join(sorted(list(filter(lambda x: x not in digit, y)))) for y in filtered_inp1]\n",
    "    remaining = list(list(set([x for x in d59 if d59.count(x) == 2]))[0])\n",
    "    digit[6] = list(filter(lambda x: x not in list(letters[4]), remaining))[0]\n",
    "\n",
    "    # find remaining dashes\n",
    "    digit[3] = [x for x in [replace(x, digit) for x in inp1 if x not in letters] if len(x) == 1][0]\n",
    "    digit[1] = replace(letters[4], digit)\n",
    "    digit[4] = [x for x in list('abcdefg') if x not in digit][0]\n",
    "    return digit"
   ]
  },
  {
   "cell_type": "code",
   "execution_count": null,
   "id": "4b958978",
   "metadata": {},
   "outputs": [],
   "source": [
    "def determine_digit(seg, digit_struc):\n",
    "    \"\"\"Determine what letter is represented\"\"\"\n",
    "    struc = [1 if x in list(seg) else 0 for x in digit_struc]\n",
    "    if struc == [1, 1, 1, 0, 1, 1, 1]:\n",
    "        n = 0\n",
    "    elif struc == [0, 0, 1, 0, 0, 1, 0]:\n",
    "        n = 1\n",
    "    elif struc == [1, 0, 1, 1, 1, 0, 1]:\n",
    "        n = 2\n",
    "    elif struc == [1, 0, 1, 1, 0, 1, 1]:\n",
    "        n = 3\n",
    "    elif struc == [0, 1, 1, 1, 0, 1, 0]:\n",
    "        n = 4\n",
    "    elif struc == [1, 1, 0, 1, 0, 1, 1]:\n",
    "        n = 5\n",
    "    elif struc == [1, 1, 0, 1, 1, 1, 1]:\n",
    "        n = 6\n",
    "    elif struc == [1, 0, 1, 0, 0, 1, 0]:\n",
    "        n = 7\n",
    "    elif struc == [1, 1, 1, 1, 1, 1, 1]:\n",
    "        n = 8\n",
    "    elif struc == [1, 1, 1, 1, 0, 1, 1]:\n",
    "        n = 9\n",
    "    \n",
    "    return n\n",
    "    "
   ]
  },
  {
   "cell_type": "code",
   "execution_count": null,
   "id": "fefef1fb",
   "metadata": {},
   "outputs": [],
   "source": [
    "str(0)"
   ]
  },
  {
   "cell_type": "code",
   "execution_count": null,
   "id": "e036e373",
   "metadata": {},
   "outputs": [],
   "source": [
    "values = []\n",
    "for inp_ in inp1:\n",
    "    structure = determine_struc(inp_[0])\n",
    "    \n",
    "    value = \"\"\n",
    "    for seg in inp_[1]:\n",
    "        value += str(determine_digit(seg, structure))\n",
    "        \n",
    "    values.append(int(value))\n",
    "    print(value)"
   ]
  },
  {
   "cell_type": "code",
   "execution_count": null,
   "id": "2001b8b4",
   "metadata": {},
   "outputs": [],
   "source": [
    "sum(values)"
   ]
  },
  {
   "cell_type": "code",
   "execution_count": null,
   "id": "c7bf7494",
   "metadata": {},
   "outputs": [],
   "source": []
  },
  {
   "cell_type": "code",
   "execution_count": null,
   "id": "41b3515c",
   "metadata": {},
   "outputs": [],
   "source": []
  },
  {
   "cell_type": "code",
   "execution_count": null,
   "id": "5b232a08",
   "metadata": {},
   "outputs": [],
   "source": [
    "determine_struc(inp1)"
   ]
  },
  {
   "cell_type": "code",
   "execution_count": null,
   "id": "4561ff0c",
   "metadata": {},
   "outputs": [],
   "source": []
  },
  {
   "cell_type": "code",
   "execution_count": null,
   "id": "bb505727",
   "metadata": {},
   "outputs": [],
   "source": [
    "letters"
   ]
  },
  {
   "cell_type": "code",
   "execution_count": null,
   "id": "e3ac764f",
   "metadata": {},
   "outputs": [],
   "source": [
    "digit"
   ]
  },
  {
   "cell_type": "code",
   "execution_count": null,
   "id": "9d747ddb",
   "metadata": {},
   "outputs": [],
   "source": [
    "a = 'fec'\n",
    "\n"
   ]
  },
  {
   "cell_type": "code",
   "execution_count": null,
   "id": "35b56b18",
   "metadata": {},
   "outputs": [],
   "source": [
    "list(a)\n",
    "\n"
   ]
  },
  {
   "cell_type": "code",
   "execution_count": null,
   "id": "bafec8c0",
   "metadata": {},
   "outputs": [],
   "source": [
    "[1 if x in list(a[0]) else 0 for x in digit]"
   ]
  },
  {
   "cell_type": "code",
   "execution_count": null,
   "id": "208e3834",
   "metadata": {},
   "outputs": [],
   "source": [
    "digitc"
   ]
  },
  {
   "cell_type": "code",
   "execution_count": null,
   "id": "7648b658",
   "metadata": {},
   "outputs": [],
   "source": [
    "\n",
    "    "
   ]
  },
  {
   "cell_type": "code",
   "execution_count": null,
   "id": "9c4d097a",
   "metadata": {},
   "outputs": [],
   "source": [
    "determine_digit('fec', digit)"
   ]
  },
  {
   "cell_type": "code",
   "execution_count": null,
   "id": "f7c9ab99",
   "metadata": {},
   "outputs": [],
   "source": []
  },
  {
   "cell_type": "code",
   "execution_count": null,
   "id": "7d1c785d",
   "metadata": {},
   "outputs": [],
   "source": [
    "filtered_inp1 = [x for x in inp1 if x not in letters]"
   ]
  },
  {
   "cell_type": "code",
   "execution_count": null,
   "id": "090e6daa",
   "metadata": {},
   "outputs": [],
   "source": [
    "filtered_inp1"
   ]
  },
  {
   "cell_type": "code",
   "execution_count": null,
   "id": "24e51025",
   "metadata": {},
   "outputs": [],
   "source": [
    "d59 = [\"\".join(sorted(list(filter(lambda x: x not in digit, y)))) for y in filtered_inp1]"
   ]
  },
  {
   "cell_type": "code",
   "execution_count": null,
   "id": "1ca7a7ee",
   "metadata": {},
   "outputs": [],
   "source": [
    "a = list(list(set([x for x in d59 if d59.count(x) == 2]))[0])"
   ]
  },
  {
   "cell_type": "code",
   "execution_count": null,
   "id": "4a3f607a",
   "metadata": {},
   "outputs": [],
   "source": [
    "a"
   ]
  },
  {
   "cell_type": "code",
   "execution_count": null,
   "id": "d334a78a",
   "metadata": {},
   "outputs": [],
   "source": []
  },
  {
   "cell_type": "code",
   "execution_count": null,
   "id": "db43387e",
   "metadata": {},
   "outputs": [],
   "source": [
    "list(letters[4])"
   ]
  },
  {
   "cell_type": "code",
   "execution_count": null,
   "id": "6d25639d",
   "metadata": {},
   "outputs": [],
   "source": [
    "list(filter(lambda x: x not in list(letters[4]), a))[0]"
   ]
  },
  {
   "cell_type": "code",
   "execution_count": null,
   "id": "1b26c862",
   "metadata": {},
   "outputs": [],
   "source": [
    "val"
   ]
  },
  {
   "cell_type": "code",
   "execution_count": null,
   "id": "af195008",
   "metadata": {},
   "outputs": [],
   "source": []
  },
  {
   "cell_type": "code",
   "execution_count": null,
   "id": "07fcd802",
   "metadata": {},
   "outputs": [],
   "source": [
    "letters"
   ]
  },
  {
   "cell_type": "code",
   "execution_count": null,
   "id": "34bab284",
   "metadata": {},
   "outputs": [],
   "source": [
    "digit"
   ]
  },
  {
   "cell_type": "code",
   "execution_count": null,
   "id": "9cc79d11",
   "metadata": {},
   "outputs": [],
   "source": []
  },
  {
   "cell_type": "code",
   "execution_count": null,
   "id": "429e5143",
   "metadata": {},
   "outputs": [],
   "source": []
  },
  {
   "cell_type": "code",
   "execution_count": null,
   "id": "c4890fc7",
   "metadata": {},
   "outputs": [],
   "source": []
  },
  {
   "cell_type": "code",
   "execution_count": null,
   "id": "4f0498a4",
   "metadata": {},
   "outputs": [],
   "source": []
  },
  {
   "cell_type": "code",
   "execution_count": null,
   "id": "8e640e23",
   "metadata": {},
   "outputs": [],
   "source": [
    "x = 'bfdcga'"
   ]
  },
  {
   "cell_type": "code",
   "execution_count": null,
   "id": "551f5ba7",
   "metadata": {},
   "outputs": [],
   "source": [
    "list(x)"
   ]
  },
  {
   "cell_type": "code",
   "execution_count": null,
   "id": "2d2bc0bd",
   "metadata": {},
   "outputs": [],
   "source": []
  },
  {
   "cell_type": "code",
   "execution_count": null,
   "id": "a845aee3",
   "metadata": {},
   "outputs": [],
   "source": [
    "digit"
   ]
  },
  {
   "cell_type": "code",
   "execution_count": null,
   "id": "7e9cbb8c",
   "metadata": {},
   "outputs": [],
   "source": [
    "mylist = list(filter(lambda x: len(x) == 6, inp1))"
   ]
  },
  {
   "cell_type": "code",
   "execution_count": null,
   "id": "5962bf99",
   "metadata": {},
   "outputs": [],
   "source": [
    "list(filter(lambda x: not all(y in x for y in letters[1]), list(filter(lambda x: len(x) == 6, inp1))))[0]"
   ]
  },
  {
   "cell_type": "code",
   "execution_count": null,
   "id": "6b3069b1",
   "metadata": {},
   "outputs": [],
   "source": [
    "for i in mylist:\n",
    "    if not all(x in i for x in letters[1]):\n",
    "        print(i)"
   ]
  },
  {
   "cell_type": "code",
   "execution_count": null,
   "id": "e4096c23",
   "metadata": {},
   "outputs": [],
   "source": [
    "letters"
   ]
  },
  {
   "cell_type": "code",
   "execution_count": null,
   "id": "2fb5b42f",
   "metadata": {},
   "outputs": [],
   "source": [
    "\n",
    "\n",
    "# digit[0]\n",
    "# if any(len(x) == 2 for x in inp1) and any(len(x) == 3 for x in inp1):\n",
    "d1 = [x for x in inp1 if len(x) == 2][0]\n",
    "d7 = [x for x in inp1 if len(x) == 3][0]\n",
    "\n",
    "for i in d1:\n",
    "    d7 = d7.replace(i, '')\n",
    "\n",
    "digit[0] = d7[0]\n",
    "    \n",
    "    \n",
    "# digit[8] is the difference between the old 4 and the 9 minus digit[0]\n",
    "    \n",
    "    \n",
    "# get digit [3]\n",
    "# d690 = ''.join([x for x in inp1 if len(x) == 6])\n",
    "# for l in d690:\n",
    "#     digitc[l] += 1\n",
    "\n",
    "    \n",
    "\n",
    "\n",
    "\n",
    "\n",
    "    \n",
    "\n",
    "    \n",
    "#     d1 = [x for x in inp1 if len(x) == 2][0]\n",
    "#     digit[2] = d1[0]\n",
    "#     digit[5] = d1[1]\n",
    "#     print(digit)\n",
    "    \n",
    "# if any(len(x) == 3 for x in inp1):\n",
    "#     d3 = [x for x in inp1 if len(x) == 3][0]\n",
    "#     digit[0] = d3[0]\n",
    "#     print(digit)\n",
    "    \n",
    "# if any(len(x) == 4 for x in inp1):\n",
    "#     d4 = [x for x in inp1 if len(x) == 4][0]\n",
    "#     digit[1] = d4[0]\n",
    "#     digit[3] = d4[2]\n",
    "    \n",
    "#     print(digit)\n",
    "# if any(len(x) == 7 for x in inp1):\n",
    "#     d8 = [x for x in inp1 if len(x) == 7][0]\n",
    "#     digit[4] = d8[4]\n",
    "#     digit[6] = d8[6]\n",
    "#     print(digit)"
   ]
  },
  {
   "cell_type": "code",
   "execution_count": null,
   "id": "d0b9556a",
   "metadata": {},
   "outputs": [],
   "source": [
    "letters"
   ]
  },
  {
   "cell_type": "code",
   "execution_count": null,
   "id": "7c12ae0f",
   "metadata": {},
   "outputs": [],
   "source": [
    "digitc"
   ]
  },
  {
   "cell_type": "code",
   "execution_count": null,
   "id": "0d777a39",
   "metadata": {},
   "outputs": [],
   "source": []
  }
 ],
 "metadata": {
  "kernelspec": {
   "display_name": "Python 3",
   "language": "python",
   "name": "python3"
  },
  "language_info": {
   "codemirror_mode": {
    "name": "ipython",
    "version": 3
   },
   "file_extension": ".py",
   "mimetype": "text/x-python",
   "name": "python",
   "nbconvert_exporter": "python",
   "pygments_lexer": "ipython3",
   "version": "3.8.8"
  }
 },
 "nbformat": 4,
 "nbformat_minor": 5
}
