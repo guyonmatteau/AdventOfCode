{
 "cells": [
  {
   "cell_type": "code",
   "execution_count": null,
   "id": "624bb25b",
   "metadata": {},
   "outputs": [],
   "source": [
    "f = open('input', 'r').read()"
   ]
  },
  {
   "cell_type": "code",
   "execution_count": null,
   "id": "c9e0dbe4",
   "metadata": {},
   "outputs": [],
   "source": [
    "input_ = f.split(\"\\n\")"
   ]
  },
  {
   "cell_type": "code",
   "execution_count": null,
   "id": "478a40a2",
   "metadata": {},
   "outputs": [],
   "source": [
    "import re\n",
    "\n",
    "input_ = [re.split(\" -> |,\", x) for x in input_][:-1]"
   ]
  },
  {
   "cell_type": "code",
   "execution_count": null,
   "id": "34b66303",
   "metadata": {},
   "outputs": [],
   "source": [
    "inp = [[int(x) for x in y] for y in input_]"
   ]
  },
  {
   "cell_type": "code",
   "execution_count": null,
   "id": "3741e4d4",
   "metadata": {},
   "outputs": [],
   "source": [
    "inp"
   ]
  },
  {
   "cell_type": "code",
   "execution_count": null,
   "id": "593e3507",
   "metadata": {},
   "outputs": [],
   "source": [
    "# horizontal = [[7, 7, 9, 7]]\n",
    "# vertical = [[1, 3, 1, 1]]\n",
    "# diagonal = [[9, 7, 7, 9], [1, 1, 3, 3]]\n",
    "# inp = horizontal + vertical + diagonal"
   ]
  },
  {
   "cell_type": "code",
   "execution_count": null,
   "id": "1e9188f6",
   "metadata": {},
   "outputs": [],
   "source": [
    "n = 1000\n",
    "matrix = [[0 for _ in range(n)] for _ in range(n)]"
   ]
  },
  {
   "cell_type": "code",
   "execution_count": null,
   "id": "a3faa404",
   "metadata": {},
   "outputs": [],
   "source": [
    "def is_vertical(line):\n",
    "    return line[0] == line[2]\n",
    "\n",
    "def is_horizontal(line):\n",
    "    return line[1] == line[3]\n",
    "\n",
    "def is_diagonal(line):\n",
    "    return abs(line[3] - line[1]) == abs(line[2] - line[0])"
   ]
  },
  {
   "cell_type": "code",
   "execution_count": null,
   "id": "e03969e5",
   "metadata": {},
   "outputs": [],
   "source": [
    "for line in inp:\n",
    "\n",
    "    x1, y1, x2, y2 = line\n",
    "\n",
    "    if is_horizontal(line):\n",
    "        for i in range(min(x1, x2), max(x1, x2) + 1):\n",
    "            matrix[y1][i] += 1\n",
    "\n",
    "    if is_vertical(line):\n",
    "        for j in range(min(y1, y2), max(y1, y2) + 1):\n",
    "            matrix[j][x1] += 1\n",
    "\n",
    "    if is_diagonal(line):\n",
    "        \n",
    "        if x2 > x1 and y2 > y1:  # increasing x and y\n",
    "            \n",
    "            xs = list(range(x1, x2 + 1))\n",
    "            ys = list(range(y1, y2 + 1))\n",
    "            \n",
    "        elif x2 < x1 and y2 > y1:\n",
    "            \n",
    "            xs = list(range(x1, x2 - 1, -1))\n",
    "            ys = list(range(y1, y2 + 1))\n",
    "        \n",
    "        elif x2 > x1 and y1 > y2:\n",
    "            \n",
    "            xs = list(range(x1, x2 + 1))\n",
    "            ys = list(range(y1, y2 - 1, -1))\n",
    "            \n",
    "        else:\n",
    "            xs = list(range(x1, x2 - 1, -1))\n",
    "            ys = list(range(y1, y2 - 1, -1)) \n",
    "            \n",
    "        \n",
    "        for x, y in zip(xs, ys):\n",
    "            matrix[y][x] += 1\n",
    "        "
   ]
  },
  {
   "cell_type": "code",
   "execution_count": null,
   "id": "c286d4cd",
   "metadata": {},
   "outputs": [],
   "source": [
    "matrix"
   ]
  },
  {
   "cell_type": "code",
   "execution_count": null,
   "id": "daaeb5ee",
   "metadata": {},
   "outputs": [],
   "source": [
    "count = 0\n",
    "for x in matrix:\n",
    "    for y in x:\n",
    "        if y >= 2:\n",
    "            count += 1"
   ]
  },
  {
   "cell_type": "code",
   "execution_count": null,
   "id": "a2d981ef",
   "metadata": {},
   "outputs": [],
   "source": [
    "count"
   ]
  },
  {
   "cell_type": "code",
   "execution_count": null,
   "id": "a3f92fe0",
   "metadata": {},
   "outputs": [],
   "source": []
  }
 ],
 "metadata": {
  "kernelspec": {
   "display_name": "Python 3 (ipykernel)",
   "language": "python",
   "name": "python3"
  },
  "language_info": {
   "codemirror_mode": {
    "name": "ipython",
    "version": 3
   },
   "file_extension": ".py",
   "mimetype": "text/x-python",
   "name": "python",
   "nbconvert_exporter": "python",
   "pygments_lexer": "ipython3",
   "version": "3.9.7"
  }
 },
 "nbformat": 4,
 "nbformat_minor": 5
}
