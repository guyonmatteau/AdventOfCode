{
 "cells": [
  {
   "cell_type": "code",
   "execution_count": null,
   "id": "6bb0a2c4",
   "metadata": {},
   "outputs": [],
   "source": [
    "f = open('input').read()  # change to input_test for testing"
   ]
  },
  {
   "cell_type": "code",
   "execution_count": null,
   "id": "6114e0f0",
   "metadata": {},
   "outputs": [],
   "source": [
    "# remove empty stuff\n",
    "inp = [list(x) for x in f.split('\\n') if x != \"\"]"
   ]
  },
  {
   "cell_type": "code",
   "execution_count": null,
   "id": "0291f139",
   "metadata": {},
   "outputs": [],
   "source": [
    "inp = [[int(x) for x in y] for y in inp]"
   ]
  },
  {
   "cell_type": "code",
   "execution_count": null,
   "id": "d77b2b02",
   "metadata": {},
   "outputs": [],
   "source": [
    "inp"
   ]
  },
  {
   "cell_type": "code",
   "execution_count": null,
   "id": "556aa950",
   "metadata": {},
   "outputs": [],
   "source": [
    "def get_value(i, j):\n",
    "    \"\"\"Get value at i, j. Returns dict for convenience with part 2.\"\"\"\n",
    "    if i < 0 or j < 0 or i > len(inp) - 1 or j > len(inp[0]) - 1:\n",
    "        val = None\n",
    "    else:\n",
    "        n = inp[i][j]\n",
    "        val = {\"value\": int(n), \"i\": i, \"j\": j}\n",
    "    return val\n",
    "    \n",
    "def get_surroundings(i, j):\n",
    "    \"\"\"Get all surrounding values for value at i, j\"\"\"\n",
    "    result = [get_value(i + 1, j), \n",
    "                get_value(i - 1, j), \n",
    "                get_value(i, j + 1), \n",
    "                get_value(i, j - 1)]\n",
    "    return [x for x in result if x is not None]\n",
    "\n",
    "def is_lowest(i, j):\n",
    "    \"\"\"Determine whether value at i, j is the lowest for all neighbours\"\"\"\n",
    "    val_surroundings = get_surroundings(i, j)\n",
    "    value = get_value(i, j)[\"value\"]\n",
    "    return value < min(x[\"value\"] for x in val_surroundings)\n",
    "    \n",
    "def get_inc_surroundings(i, j):\n",
    "    \"\"\"Get all surrounding values that are exactly 1 higher than the value at i, j\"\"\"\n",
    "    value = get_value(i, j)[\"value\"]\n",
    "    val_sur = get_surroundings(i, j)\n",
    "    return [x for x in val_sur if x[\"value\"] > value and x[\"value\"] < 9]"
   ]
  },
  {
   "cell_type": "code",
   "execution_count": null,
   "id": "517421ef",
   "metadata": {},
   "outputs": [],
   "source": [
    "def get_basin(i, j):\n",
    "    \"\"\"At this point we know the lowest points already.\"\"\"\n",
    "    basin = [get_value(i, j)]\n",
    "\n",
    "    surroundings = get_inc_surroundings(i, j)\n",
    "    basin.extend(surroundings)\n",
    "    \n",
    "    while len(surroundings) > 0:\n",
    "        \n",
    "        new_surroundings = []\n",
    "        for x in surroundings:\n",
    "            new_surroundings.extend(get_inc_surroundings(x[\"i\"], x[\"j\"]))\n",
    "        \n",
    "        basin.extend(new_surroundings)\n",
    "        \n",
    "        surroundings = new_surroundings\n",
    "    \n",
    "#     filter duplicates\n",
    "    unique_basin = []\n",
    "    for i in basin:\n",
    "        if i not in unique_basin:\n",
    "            unique_basin.append(i)\n",
    "    return unique_basin\n",
    "#     return unique_basin\n",
    "\n",
    "    "
   ]
  },
  {
   "cell_type": "code",
   "execution_count": null,
   "id": "2217a6f7",
   "metadata": {},
   "outputs": [],
   "source": [
    "is_lowest(0, 0)"
   ]
  },
  {
   "cell_type": "code",
   "execution_count": null,
   "id": "7867db23",
   "metadata": {},
   "outputs": [],
   "source": [
    "get_basin(0, 9)"
   ]
  },
  {
   "cell_type": "code",
   "execution_count": null,
   "id": "4f1923f8",
   "metadata": {},
   "outputs": [],
   "source": [
    "risks = []\n",
    "basins = []\n",
    "for i in range(len(inp)):\n",
    "    for j in range(len(inp[0])):\n",
    "        \n",
    "        if is_lowest(i, j):\n",
    "            val = get_value(i, j)[\"value\"]\n",
    "\n",
    "            risks.append(val + 1)\n",
    "            basins.append(get_basin(i, j))\n",
    "        "
   ]
  },
  {
   "cell_type": "code",
   "execution_count": null,
   "id": "b710f6ed",
   "metadata": {},
   "outputs": [],
   "source": [
    "sum(risks)"
   ]
  },
  {
   "cell_type": "code",
   "execution_count": null,
   "id": "a3a4b060",
   "metadata": {},
   "outputs": [],
   "source": [
    "basins"
   ]
  },
  {
   "cell_type": "code",
   "execution_count": null,
   "id": "fccf7d66",
   "metadata": {},
   "outputs": [],
   "source": [
    "len(basins)"
   ]
  },
  {
   "cell_type": "code",
   "execution_count": null,
   "id": "4aa4f438",
   "metadata": {},
   "outputs": [],
   "source": [
    "basin_len = sorted([len(x) for x in basins])"
   ]
  },
  {
   "cell_type": "code",
   "execution_count": null,
   "id": "20cec4a6",
   "metadata": {},
   "outputs": [],
   "source": [
    "basin_len"
   ]
  },
  {
   "cell_type": "code",
   "execution_count": null,
   "id": "3c491281",
   "metadata": {},
   "outputs": [],
   "source": [
    "basin_len[-1] * basin_len[-2] * basin_len[-3]"
   ]
  },
  {
   "cell_type": "code",
   "execution_count": null,
   "id": "d39e6257",
   "metadata": {},
   "outputs": [],
   "source": []
  },
  {
   "cell_type": "code",
   "execution_count": null,
   "id": "f7936733",
   "metadata": {},
   "outputs": [],
   "source": []
  }
 ],
 "metadata": {
  "kernelspec": {
   "display_name": "Python 3",
   "language": "python",
   "name": "python3"
  },
  "language_info": {
   "codemirror_mode": {
    "name": "ipython",
    "version": 3
   },
   "file_extension": ".py",
   "mimetype": "text/x-python",
   "name": "python",
   "nbconvert_exporter": "python",
   "pygments_lexer": "ipython3",
   "version": "3.8.8"
  }
 },
 "nbformat": 4,
 "nbformat_minor": 5
}
