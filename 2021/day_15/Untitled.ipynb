{
 "cells": [
  {
   "cell_type": "code",
   "execution_count": 35,
   "id": "5b5f9bbc",
   "metadata": {},
   "outputs": [],
   "source": [
    "f = open('input').read().split('\\n')"
   ]
  },
  {
   "cell_type": "code",
   "execution_count": 36,
   "id": "f76b1351",
   "metadata": {},
   "outputs": [],
   "source": [
    "inp = [[int(x) for x in y] for y in f]"
   ]
  },
  {
   "cell_type": "code",
   "execution_count": 37,
   "id": "3d2528ce",
   "metadata": {},
   "outputs": [],
   "source": [
    "def get_col(start, end, inputs):\n",
    "    column = []\n",
    "    while start < end:\n",
    "        column += inputs[start]\n",
    "        start += 1\n",
    "    return column\n",
    "\n",
    "def extend_matrix(inp):\n",
    "    inputs = []\n",
    "    inputs.append(inp)\n",
    "    \n",
    "    for i in range(10):\n",
    "        inputs.append([[x + 1 if x + 1 < 10 else 1 for x in y] for y in inputs[i]])\n",
    "\n",
    "    columns = [get_col(i, i + 5, inputs=inputs) for i in range(5)]\n",
    "    \n",
    "    matrix = [columns[0][i] + columns[1][i] + columns[2][i] + columns[3][i] + columns[4][i] for i in range(len(columns[0]))]\n",
    "    \n",
    "    return matrix"
   ]
  },
  {
   "cell_type": "code",
   "execution_count": 38,
   "id": "c37d4429",
   "metadata": {
    "scrolled": true
   },
   "outputs": [],
   "source": [
    "matrix = extend_matrix(inp=inp)"
   ]
  },
  {
   "cell_type": "code",
   "execution_count": 39,
   "id": "d5af00a0",
   "metadata": {},
   "outputs": [],
   "source": [
    "from dataclasses import dataclass\n",
    "\n",
    "@dataclass\n",
    "class Node:\n",
    "    i: int\n",
    "    j: int\n",
    "    v: int = None\n",
    "    cost: int = 100000\n",
    "    visited: bool = False\n",
    "    def __post_init__(self):\n",
    "        self.v = matrix[self.i][self.j]\n",
    "        \n",
    "    def add_cost(self, cost):\n",
    "        self.cost = min(cost, self.cost) \n",
    "        return self\n",
    "    \n",
    "    def visit(self):\n",
    "        self.visited = True\n",
    "    \n",
    "    def unvisit(self):\n",
    "        self.visited = False\n",
    "    \n",
    "    def __str__(self):\n",
    "        return f\"Cost to get here: {self.cost}, visited: {self.visited}\"\n",
    "    "
   ]
  },
  {
   "cell_type": "code",
   "execution_count": 40,
   "id": "ed8806bf",
   "metadata": {},
   "outputs": [],
   "source": [
    "def get_neighbour_indices(m, i, j):\n",
    "    \"\"\"Get coordinates of neighbours taking into account\n",
    "    borders of the matrix.\"\"\"\n",
    "    permutations = [[i, max(0, j - 1)], [i, min(j + 1, len(m[0]) - 1)], \n",
    "                    [max(0, i - 1), j], [min(i + 1, len(m) - 1), j]]\n",
    "    return [y for y in permutations if y[0] != i or y[1] != j]  "
   ]
  },
  {
   "cell_type": "code",
   "execution_count": 41,
   "id": "163849ae",
   "metadata": {},
   "outputs": [],
   "source": [
    "def update_graph(nodes, i, j):\n",
    "    # Dijkstra algorithm\n",
    "    current_node = nodes[i][j]\n",
    "    indices = get_neighbour_indices(nodes, i, j)\n",
    "    \n",
    "    neighbours = [nodes[i][j] for i, j in indices]\n",
    "#     non_visited = [n for n in neighbours if not n.visited]\n",
    "    \n",
    "    for node in neighbours:\n",
    "        if current_node.cost + node.v < node.cost:\n",
    "            node.add_cost(current_node.cost + node.v)\n",
    "            \n",
    "    current_node.visit()\n",
    "    return nodes\n"
   ]
  },
  {
   "cell_type": "code",
   "execution_count": 42,
   "id": "4e32a5fa",
   "metadata": {},
   "outputs": [
    {
     "data": {
      "text/plain": [
       "Node(i=0, j=0, v=7, cost=0, visited=False)"
      ]
     },
     "execution_count": 42,
     "metadata": {},
     "output_type": "execute_result"
    }
   ],
   "source": [
    "# instantiate graph\n",
    "nodes = [[Node(i, j) for j in range(len(matrix[0]))] for i in range(len(matrix))]\n",
    "\n",
    "# set cost for first node to zero\n",
    "nodes[0][0].add_cost(0)"
   ]
  },
  {
   "cell_type": "code",
   "execution_count": 31,
   "id": "7e7e150c",
   "metadata": {},
   "outputs": [],
   "source": [
    "for i in range(len(nodes)):\n",
    "    for j in range(len(nodes)):\n",
    "        update_graph(nodes, i, j)"
   ]
  },
  {
   "cell_type": "code",
   "execution_count": 51,
   "id": "928f5261",
   "metadata": {},
   "outputs": [],
   "source": [
    "# traverse matrix diagonally to see if it makes a difference\n",
    "ROW = len(matrix[0])\n",
    "COL = len(matrix)\n",
    "for line in range(1, (ROW + COL)):\n",
    "\n",
    "    start_col = max(0, line - ROW)\n",
    "\n",
    "    count = min(line, (COL - start_col), ROW)\n",
    "\n",
    "    for j in range(0, count):\n",
    "        \n",
    "        x = min(ROW, line) - j - 1\n",
    "        y = start_col + j\n",
    "\n",
    "        update_graph(nodes, x, y)"
   ]
  },
  {
   "cell_type": "code",
   "execution_count": 52,
   "id": "3fdb67ba",
   "metadata": {},
   "outputs": [
    {
     "data": {
      "text/plain": [
       "Node(i=499, j=499, v=8, cost=2963, visited=True)"
      ]
     },
     "execution_count": 52,
     "metadata": {},
     "output_type": "execute_result"
    }
   ],
   "source": [
    "nodes[-1][-1]"
   ]
  },
  {
   "cell_type": "code",
   "execution_count": null,
   "id": "1a28b83e",
   "metadata": {},
   "outputs": [],
   "source": []
  }
 ],
 "metadata": {
  "kernelspec": {
   "display_name": "Python 3",
   "language": "python",
   "name": "python3"
  },
  "language_info": {
   "codemirror_mode": {
    "name": "ipython",
    "version": 3
   },
   "file_extension": ".py",
   "mimetype": "text/x-python",
   "name": "python",
   "nbconvert_exporter": "python",
   "pygments_lexer": "ipython3",
   "version": "3.8.8"
  }
 },
 "nbformat": 4,
 "nbformat_minor": 5
}
