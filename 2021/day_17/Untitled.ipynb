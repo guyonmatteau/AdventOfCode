{
 "cells": [
  {
   "cell_type": "code",
   "execution_count": null,
   "id": "08b4c765",
   "metadata": {},
   "outputs": [],
   "source": [
    "def model_positions(initial_speed, area):\n",
    "    speeds = [initial_speed]\n",
    "    pos = [[0, 0]]\n",
    "    while pos[-1][-1] >= area[1][0] and not pos_in_area(pos[-1], area):\n",
    "\n",
    "        cur_pos = pos[-1]\n",
    "        cur_speed = speeds[-1]\n",
    "\n",
    "        new_pos = [cur_pos[0] + cur_speed[0], cur_pos[1] + cur_speed[1]]\n",
    "        pos.append(new_pos)\n",
    "\n",
    "        speed = [max(0, speeds[-1][0] - 1), speeds[-1][1] - 1]\n",
    "        speeds.append(speed)\n",
    "\n",
    "    if pos_in_area(pos[-1], area):\n",
    "        return pos\n",
    "    else: \n",
    "        return None"
   ]
  },
  {
   "cell_type": "code",
   "execution_count": null,
   "id": "f8ecbc05",
   "metadata": {},
   "outputs": [],
   "source": [
    "def pos_in_area(pos, area):\n",
    "    return area[0][0] <= pos[0] <= area[0][1] and area[1][0] <= pos[1] <= area[1][1]"
   ]
  },
  {
   "cell_type": "code",
   "execution_count": null,
   "id": "a36b9ada",
   "metadata": {},
   "outputs": [],
   "source": [
    "def get_xspeeds(area):\n",
    "    \"\"\"Get all starting x speeds that will get you in the target area in some way.\"\"\"\n",
    "    x_range = area[0]  # [20, 30]\n",
    "    x_speeds = []\n",
    "    for i in range(1000):\n",
    "        if any(x_range[0] <= sum(range(j, i)) <= x_range[1] for j in range(i)):\n",
    "            x_speeds.append(i-1)\n",
    "    return x_speeds\n",
    "            \n",
    "    "
   ]
  },
  {
   "cell_type": "code",
   "execution_count": null,
   "id": "e0fbdfb7",
   "metadata": {},
   "outputs": [],
   "source": [
    "area = [[20, 30], [-10, -5]]\n",
    "area = [[175, 227], [-134, -79]]\n",
    "\n",
    "\n",
    "# model_positions([7, 8], area)"
   ]
  },
  {
   "cell_type": "code",
   "execution_count": null,
   "id": "27c65f24",
   "metadata": {},
   "outputs": [],
   "source": [
    "xspeeds = get_xspeeds(area)"
   ]
  },
  {
   "cell_type": "code",
   "execution_count": null,
   "id": "608d29b8",
   "metadata": {},
   "outputs": [],
   "source": [
    "xspeeds"
   ]
  },
  {
   "cell_type": "code",
   "execution_count": null,
   "id": "0e51e45d",
   "metadata": {},
   "outputs": [],
   "source": [
    "dist_val = []\n",
    "\n",
    "for xspeed in xspeeds:\n",
    "    for i in range(-xspeed, max(xspeeds)):\n",
    "        if model_positions([xspeed, i], area):\n",
    "            dist_val.append([xspeed, i])"
   ]
  },
  {
   "cell_type": "code",
   "execution_count": null,
   "id": "1da5569f",
   "metadata": {},
   "outputs": [],
   "source": [
    "len(dist_val)"
   ]
  },
  {
   "cell_type": "code",
   "execution_count": null,
   "id": "7f9f7658",
   "metadata": {},
   "outputs": [],
   "source": [
    "\n",
    "\n",
    "\n",
    "\n",
    "area = [[175, 227], [-134, -79]]\n",
    "# area = [[20, 30], [-10, -5]]\n",
    "\n",
    "# def model(xspeed, area):\n",
    "\n",
    "def f(area):\n",
    "    xspeed = 19\n",
    "    checks = []\n",
    "    positions = []\n",
    "\n",
    "    for i in range(1000):\n",
    "        initial_speed = [xspeed, i]\n",
    "        if model_positions(initial_speed, area):\n",
    "            checks.append(i)\n",
    "            positions.append(model_positions(initial_speed, area))\n",
    "\n",
    "    return checks\n",
    "f(area)"
   ]
  },
  {
   "cell_type": "code",
   "execution_count": null,
   "id": "a929ead0",
   "metadata": {},
   "outputs": [],
   "source": [
    "def get_min_xsteps(val):\n",
    "    n, m = 0, 0\n",
    "    while m <= val:\n",
    "        m = sum(range(n))\n",
    "        n += 1\n",
    "    return n - 1, m"
   ]
  },
  {
   "cell_type": "code",
   "execution_count": null,
   "id": "ea4c9c5a",
   "metadata": {},
   "outputs": [],
   "source": [
    "get_min_xsteps(227)"
   ]
  },
  {
   "cell_type": "code",
   "execution_count": null,
   "id": "22286e89",
   "metadata": {},
   "outputs": [],
   "source": [
    "19, 20, 21"
   ]
  },
  {
   "cell_type": "code",
   "execution_count": null,
   "id": "9dd2497b",
   "metadata": {},
   "outputs": [],
   "source": []
  },
  {
   "cell_type": "code",
   "execution_count": null,
   "id": "94dc2823",
   "metadata": {},
   "outputs": [],
   "source": [
    "def sum_of_yspeed(speeds):\n",
    "    return sum(x[1] for x in speeds)"
   ]
  },
  {
   "cell_type": "code",
   "execution_count": null,
   "id": "e630ea11",
   "metadata": {},
   "outputs": [],
   "source": [
    "sum_of_yspeed(speeds)"
   ]
  },
  {
   "cell_type": "code",
   "execution_count": null,
   "id": "e68a03b8",
   "metadata": {},
   "outputs": [],
   "source": []
  }
 ],
 "metadata": {
  "kernelspec": {
   "display_name": "Python 3",
   "language": "python",
   "name": "python3"
  },
  "language_info": {
   "codemirror_mode": {
    "name": "ipython",
    "version": 3
   },
   "file_extension": ".py",
   "mimetype": "text/x-python",
   "name": "python",
   "nbconvert_exporter": "python",
   "pygments_lexer": "ipython3",
   "version": "3.8.8"
  }
 },
 "nbformat": 4,
 "nbformat_minor": 5
}
