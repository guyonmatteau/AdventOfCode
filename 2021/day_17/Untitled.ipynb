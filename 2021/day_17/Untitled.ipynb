{
 "cells": [
  {
   "cell_type": "code",
   "execution_count": 50,
   "id": "08b4c765",
   "metadata": {},
   "outputs": [],
   "source": [
    "def model_positions(initial_speed, area):\n",
    "    speeds = [initial_speed]\n",
    "    pos = [[0, 0]]\n",
    "    while pos[-1][-1] >= area[1][0] and not pos_in_area(pos[-1], area):\n",
    "\n",
    "        cur_pos = pos[-1]\n",
    "        cur_speed = speeds[-1]\n",
    "\n",
    "        new_pos = [cur_pos[0] + cur_speed[0], cur_pos[1] + cur_speed[1]]\n",
    "        pos.append(new_pos)\n",
    "\n",
    "        speed = [max(0, speeds[-1][0] - 1), speeds[-1][1] - 1]\n",
    "        speeds.append(speed)\n",
    "\n",
    "    if pos_in_area(pos[-1], area):\n",
    "        return pos\n",
    "    else: \n",
    "        return None"
   ]
  },
  {
   "cell_type": "code",
   "execution_count": 51,
   "id": "f8ecbc05",
   "metadata": {},
   "outputs": [],
   "source": [
    "def pos_in_area(pos, area):\n",
    "    return area[0][0] <= pos[0] <= area[0][1] and area[1][0] <= pos[1] <= area[1][1]"
   ]
  },
  {
   "cell_type": "code",
   "execution_count": 70,
   "id": "a36b9ada",
   "metadata": {},
   "outputs": [],
   "source": [
    "def get_xspeeds(area):\n",
    "    \"\"\"Get all starting x speeds that will get you in the target area in some way.\"\"\"\n",
    "    x_range = area[0]  # [20, 30]\n",
    "    x_speeds = []\n",
    "    for i in range(1000):\n",
    "        if any(x_range[0] <= sum(range(j, i)) <= x_range[1] for j in range(i)):\n",
    "            x_speeds.append(i-1)\n",
    "    return x_speeds\n",
    "            \n",
    "    "
   ]
  },
  {
   "cell_type": "code",
   "execution_count": 71,
   "id": "e0fbdfb7",
   "metadata": {},
   "outputs": [],
   "source": [
    "area = [[20, 30], [-10, -5]]\n",
    "area = [[175, 227], [-134, -79]]\n",
    "\n",
    "\n",
    "# model_positions([7, 8], area)"
   ]
  },
  {
   "cell_type": "code",
   "execution_count": 72,
   "id": "27c65f24",
   "metadata": {},
   "outputs": [],
   "source": [
    "xspeeds = get_xspeeds(area)"
   ]
  },
  {
   "cell_type": "code",
   "execution_count": 63,
   "id": "608d29b8",
   "metadata": {},
   "outputs": [
    {
     "data": {
      "text/plain": [
       "[19,\n",
       " 20,\n",
       " 21,\n",
       " 22,\n",
       " 23,\n",
       " 24,\n",
       " 25,\n",
       " 26,\n",
       " 27,\n",
       " 28,\n",
       " 29,\n",
       " 30,\n",
       " 31,\n",
       " 32,\n",
       " 33,\n",
       " 34,\n",
       " 35,\n",
       " 36,\n",
       " 37,\n",
       " 38,\n",
       " 39,\n",
       " 40,\n",
       " 41,\n",
       " 42,\n",
       " 43,\n",
       " 44,\n",
       " 45,\n",
       " 46,\n",
       " 47,\n",
       " 48,\n",
       " 49,\n",
       " 50,\n",
       " 51,\n",
       " 52,\n",
       " 53,\n",
       " 54,\n",
       " 55,\n",
       " 56,\n",
       " 57,\n",
       " 58,\n",
       " 60,\n",
       " 61,\n",
       " 62,\n",
       " 63,\n",
       " 64,\n",
       " 65,\n",
       " 66,\n",
       " 67,\n",
       " 68,\n",
       " 69,\n",
       " 70,\n",
       " 71,\n",
       " 72,\n",
       " 73,\n",
       " 74,\n",
       " 75,\n",
       " 76,\n",
       " 88,\n",
       " 89,\n",
       " 90,\n",
       " 91,\n",
       " 92,\n",
       " 93,\n",
       " 94,\n",
       " 95,\n",
       " 96,\n",
       " 97,\n",
       " 98,\n",
       " 99,\n",
       " 100,\n",
       " 101,\n",
       " 102,\n",
       " 103,\n",
       " 104,\n",
       " 105,\n",
       " 106,\n",
       " 107,\n",
       " 108,\n",
       " 109,\n",
       " 110,\n",
       " 111,\n",
       " 112,\n",
       " 113,\n",
       " 114,\n",
       " 175,\n",
       " 176,\n",
       " 177,\n",
       " 178,\n",
       " 179,\n",
       " 180,\n",
       " 181,\n",
       " 182,\n",
       " 183,\n",
       " 184,\n",
       " 185,\n",
       " 186,\n",
       " 187,\n",
       " 188,\n",
       " 189,\n",
       " 190,\n",
       " 191,\n",
       " 192,\n",
       " 193,\n",
       " 194,\n",
       " 195,\n",
       " 196,\n",
       " 197,\n",
       " 198,\n",
       " 199,\n",
       " 200,\n",
       " 201,\n",
       " 202,\n",
       " 203,\n",
       " 204,\n",
       " 205,\n",
       " 206,\n",
       " 207,\n",
       " 208,\n",
       " 209,\n",
       " 210,\n",
       " 211,\n",
       " 212,\n",
       " 213,\n",
       " 214,\n",
       " 215,\n",
       " 216,\n",
       " 217,\n",
       " 218,\n",
       " 219,\n",
       " 220,\n",
       " 221,\n",
       " 222,\n",
       " 223,\n",
       " 224,\n",
       " 225,\n",
       " 226,\n",
       " 227]"
      ]
     },
     "execution_count": 63,
     "metadata": {},
     "output_type": "execute_result"
    }
   ],
   "source": [
    "xspeeds"
   ]
  },
  {
   "cell_type": "code",
   "execution_count": 73,
   "id": "0e51e45d",
   "metadata": {},
   "outputs": [],
   "source": [
    "dist_val = []\n",
    "\n",
    "for xspeed in xspeeds:\n",
    "    for i in range(-xspeed, max(xspeeds)):\n",
    "        if model_positions([xspeed, i], area):\n",
    "            dist_val.append([xspeed, i])"
   ]
  },
  {
   "cell_type": "code",
   "execution_count": 75,
   "id": "1da5569f",
   "metadata": {},
   "outputs": [
    {
     "data": {
      "text/plain": [
       "4748"
      ]
     },
     "execution_count": 75,
     "metadata": {},
     "output_type": "execute_result"
    }
   ],
   "source": [
    "len(dist_val)"
   ]
  },
  {
   "cell_type": "code",
   "execution_count": null,
   "id": "7f9f7658",
   "metadata": {},
   "outputs": [],
   "source": [
    "\n",
    "\n",
    "\n",
    "\n",
    "area = [[175, 227], [-134, -79]]\n",
    "# area = [[20, 30], [-10, -5]]\n",
    "\n",
    "# def model(xspeed, area):\n",
    "\n",
    "def f(area):\n",
    "    xspeed = 19\n",
    "    checks = []\n",
    "    positions = []\n",
    "\n",
    "    for i in range(1000):\n",
    "        initial_speed = [xspeed, i]\n",
    "        if model_positions(initial_speed, area):\n",
    "            checks.append(i)\n",
    "            positions.append(model_positions(initial_speed, area))\n",
    "\n",
    "    return checks\n",
    "f(area)"
   ]
  },
  {
   "cell_type": "code",
   "execution_count": null,
   "id": "a929ead0",
   "metadata": {},
   "outputs": [],
   "source": [
    "def get_min_xsteps(val):\n",
    "    n, m = 0, 0\n",
    "    while m <= val:\n",
    "        m = sum(range(n))\n",
    "        n += 1\n",
    "    return n - 1, m"
   ]
  },
  {
   "cell_type": "code",
   "execution_count": null,
   "id": "ea4c9c5a",
   "metadata": {},
   "outputs": [],
   "source": [
    "get_min_xsteps(227)"
   ]
  },
  {
   "cell_type": "code",
   "execution_count": null,
   "id": "22286e89",
   "metadata": {},
   "outputs": [],
   "source": [
    "19, 20, 21"
   ]
  },
  {
   "cell_type": "code",
   "execution_count": null,
   "id": "9dd2497b",
   "metadata": {},
   "outputs": [],
   "source": []
  },
  {
   "cell_type": "code",
   "execution_count": null,
   "id": "94dc2823",
   "metadata": {},
   "outputs": [],
   "source": [
    "def sum_of_yspeed(speeds):\n",
    "    return sum(x[1] for x in speeds)"
   ]
  },
  {
   "cell_type": "code",
   "execution_count": null,
   "id": "e630ea11",
   "metadata": {},
   "outputs": [],
   "source": [
    "sum_of_yspeed(speeds)"
   ]
  },
  {
   "cell_type": "code",
   "execution_count": null,
   "id": "e68a03b8",
   "metadata": {},
   "outputs": [],
   "source": []
  }
 ],
 "metadata": {
  "kernelspec": {
   "display_name": "Python 3",
   "language": "python",
   "name": "python3"
  },
  "language_info": {
   "codemirror_mode": {
    "name": "ipython",
    "version": 3
   },
   "file_extension": ".py",
   "mimetype": "text/x-python",
   "name": "python",
   "nbconvert_exporter": "python",
   "pygments_lexer": "ipython3",
   "version": "3.8.8"
  }
 },
 "nbformat": 4,
 "nbformat_minor": 5
}
