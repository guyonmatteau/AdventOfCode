{
 "cells": [
  {
   "cell_type": "code",
   "execution_count": null,
   "id": "3cd069bc",
   "metadata": {},
   "outputs": [],
   "source": [
    "numbers = open(\"input_4a\", \"r\").read().split(\",\")"
   ]
  },
  {
   "cell_type": "code",
   "execution_count": null,
   "id": "876089e7",
   "metadata": {},
   "outputs": [],
   "source": [
    "boards_input = open(\"input_4b\", \"r\").read()"
   ]
  },
  {
   "cell_type": "code",
   "execution_count": null,
   "id": "79596e72",
   "metadata": {},
   "outputs": [],
   "source": [
    "boards_split = boards_input.split(\"\\n\\n\")"
   ]
  },
  {
   "cell_type": "code",
   "execution_count": null,
   "id": "50d7eefe",
   "metadata": {},
   "outputs": [],
   "source": [
    "boards_split2 = [x.split(\"\\n\") for x in boards_split]"
   ]
  },
  {
   "cell_type": "code",
   "execution_count": null,
   "id": "00930b56",
   "metadata": {},
   "outputs": [],
   "source": [
    "boards = [[x.split(\" \") for x in y] for y in boards_split2]"
   ]
  },
  {
   "cell_type": "code",
   "execution_count": null,
   "id": "035280ad",
   "metadata": {},
   "outputs": [],
   "source": [
    "boards_trimmed = [[[int(x) for x in y if x != \"\"] for y in z] for z in boards]"
   ]
  },
  {
   "cell_type": "code",
   "execution_count": null,
   "id": "53d52b6b",
   "metadata": {},
   "outputs": [],
   "source": [
    "boards_trimmed"
   ]
  },
  {
   "cell_type": "code",
   "execution_count": null,
   "id": "6d10c4de",
   "metadata": {},
   "outputs": [],
   "source": [
    "myboard = boards_trimmed[0]"
   ]
  },
  {
   "cell_type": "code",
   "execution_count": null,
   "id": "bc4e456c",
   "metadata": {},
   "outputs": [],
   "source": [
    "myboard"
   ]
  },
  {
   "cell_type": "code",
   "execution_count": null,
   "id": "65ad8558",
   "metadata": {},
   "outputs": [],
   "source": [
    "def has_bingo(board):\n",
    "    lines = board + list(map(list, zip(*board)))\n",
    "    return any(sum(x) == 500 for x in lines)"
   ]
  },
  {
   "cell_type": "code",
   "execution_count": null,
   "id": "dd26229f",
   "metadata": {},
   "outputs": [],
   "source": [
    "def check_number(board, number):\n",
    "    checked_board = [[x if x != number else 100 for x in y] for y in board]\n",
    "    return checked_board"
   ]
  },
  {
   "cell_type": "code",
   "execution_count": null,
   "id": "2f9c1c67",
   "metadata": {},
   "outputs": [],
   "source": [
    "check_number(myboard, 0)"
   ]
  },
  {
   "cell_type": "code",
   "execution_count": null,
   "id": "64a46a29",
   "metadata": {},
   "outputs": [],
   "source": [
    "numbers = [int(n) for n in numbers]"
   ]
  },
  {
   "cell_type": "code",
   "execution_count": null,
   "id": "6a419db2",
   "metadata": {},
   "outputs": [],
   "source": [
    "n = 0\n",
    "boards = boards_trimmed\n",
    "while True:\n",
    "    number = numbers[n]\n",
    "    \n",
    "    print(f\"Number: {number}\")\n",
    "    \n",
    "    boards = [check_number(board, number) for board in boards]\n",
    "    \n",
    "    boards = [board for board in boards if not has_bingo(board)]\n",
    "    \n",
    "    print(boards)\n",
    "    print(\"\\n\")\n",
    "    \n",
    "    if any(has_bingo(board) for board in boards):\n",
    "        for board in boards:\n",
    "            if has_bingo(board):\n",
    "                print(\"Bingo found\")\n",
    "                print(board)\n",
    "                bingo_board = board\n",
    "        break\n",
    "    \n",
    "    n += 1\n",
    "    \n",
    "    \n",
    "    \n",
    "    \n",
    "    "
   ]
  },
  {
   "cell_type": "code",
   "execution_count": null,
   "id": "683d7cfe",
   "metadata": {},
   "outputs": [],
   "source": [
    "final_board = [[[100, 100, 56, 100, 100], [36, 57, 100, 100, 77], [100, 100, 35, 100, 100], [82, 100, 100, 100, 100], [45, 100, 100, 100, 100]]]"
   ]
  },
  {
   "cell_type": "code",
   "execution_count": null,
   "id": "d4b6e1a8",
   "metadata": {},
   "outputs": [],
   "source": [
    "final_board"
   ]
  },
  {
   "cell_type": "code",
   "execution_count": null,
   "id": "1f2fb96f",
   "metadata": {},
   "outputs": [],
   "source": [
    "sum([sum(x for x in y if x != 100) for y in final_board[0]]) * 49"
   ]
  },
  {
   "cell_type": "code",
   "execution_count": null,
   "id": "d282e6c6",
   "metadata": {},
   "outputs": [],
   "source": []
  }
 ],
 "metadata": {
  "kernelspec": {
   "display_name": "Python 3 (ipykernel)",
   "language": "python",
   "name": "python3"
  },
  "language_info": {
   "codemirror_mode": {
    "name": "ipython",
    "version": 3
   },
   "file_extension": ".py",
   "mimetype": "text/x-python",
   "name": "python",
   "nbconvert_exporter": "python",
   "pygments_lexer": "ipython3",
   "version": "3.9.7"
  }
 },
 "nbformat": 4,
 "nbformat_minor": 5
}
