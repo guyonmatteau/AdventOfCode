{
 "cells": [
  {
   "cell_type": "code",
   "execution_count": 1206,
   "id": "4ea50824",
   "metadata": {},
   "outputs": [],
   "source": [
    "f = open('input').read().split('\\n')[:-1]"
   ]
  },
  {
   "cell_type": "code",
   "execution_count": 1207,
   "id": "2a304b0e",
   "metadata": {},
   "outputs": [],
   "source": [
    "g = [list(x) for x in f]\n",
    "h = [[int(x) for x in y] for y in g]"
   ]
  },
  {
   "cell_type": "code",
   "execution_count": 1180,
   "id": "b2ffb32a",
   "metadata": {},
   "outputs": [],
   "source": [
    "def first(m):\n",
    "    \"\"\"Increase all values by 1\"\"\"\n",
    "    for i in range(len(m)):\n",
    "        for j in range(len(m)):\n",
    "            m[i][j] += 1\n",
    "    return m"
   ]
  },
  {
   "cell_type": "code",
   "execution_count": 978,
   "id": "a53d1881",
   "metadata": {},
   "outputs": [],
   "source": [
    "import itertools\n",
    "\n",
    "def get_neighbour_indices(m, i, j):\n",
    "    \"\"\"Get coordinates of neighbours taking into account\n",
    "    borders of the matrix.\"\"\"\n",
    "    a = list(range(max(0, i - 1), min(len(m), i + 2)))\n",
    "    b = list(range(max(0, j - 1), min(len(m), j + 2)))\n",
    "    \n",
    "    permutations = list(itertools.product(a, b))\n",
    "    \n",
    "    return [y for y in permutations if y[0] != i or y[1] != j]\n",
    "    \n",
    "def increase_neighbours(m, i, j):\n",
    "    \"\"\"Increase all neighbours by 1.\"\"\"\n",
    "    neighbour_indices = get_neighbour_indices(m, i, j)\n",
    "    for indices in neighbour_indices:\n",
    "        m[indices[0]][indices[1]] += 1\n",
    "    return m"
   ]
  },
  {
   "cell_type": "code",
   "execution_count": 1181,
   "id": "79d17956",
   "metadata": {},
   "outputs": [],
   "source": [
    "def second(m, f):\n",
    "    \"\"\"Increase all neighbouring with 1 and reset if over 9 afterwards.\"\"\"\n",
    "    indices = []\n",
    "    for i in range(len(m)):\n",
    "        for j in range(len(m)):        \n",
    "            if m[i][j] > 9 and f[i][j] == 0:\n",
    "                \n",
    "                # only append the values to increase, later on actually increase\n",
    "                indices.append([i, j])\n",
    "                f[i][j] = 1\n",
    "                \n",
    "    for i in indices:\n",
    "        m = increase_neighbours(m, i[0], i[1])\n",
    "    \n",
    "    # only recurse if values were increased\n",
    "    if len(indices) > 0:\n",
    "        m = second(m, f)\n",
    "    \n",
    "    return m\n",
    "\n",
    "def third(m):\n",
    "    for i in range(len(m)):\n",
    "        for j in range(len(m)):\n",
    "            if m[i][j] > 9:\n",
    "                m[i][j] = 0\n",
    "    return m"
   ]
  },
  {
   "cell_type": "code",
   "execution_count": 1182,
   "id": "80783dc5",
   "metadata": {},
   "outputs": [],
   "source": [
    "def determine_flashes(m):\n",
    "    c = 0\n",
    "    for i in m:\n",
    "        for j in i:\n",
    "            if j == 0: \n",
    "                c += 1\n",
    "    return c"
   ]
  },
  {
   "cell_type": "code",
   "execution_count": 1208,
   "id": "e0659a98",
   "metadata": {},
   "outputs": [
    {
     "name": "stdout",
     "output_type": "stream",
     "text": [
      "476\n"
     ]
    }
   ],
   "source": [
    "flash_count = 0\n",
    "\n",
    "flashes = 0\n",
    "step = 0\n",
    "\n",
    "while flashes != 100:\n",
    "    \n",
    "# for x in range(400):\n",
    "    f = [[0 for _ in range(len(h))] for _ in range(len(h))]\n",
    "    h = first(h)\n",
    "    h = second(h, f)\n",
    "    h = third(h)\n",
    "    flashes = determine_flashes(h)\n",
    "    step += 1\n",
    "#     flash_count += determine_flashes(h)\n",
    "print(step)"
   ]
  },
  {
   "cell_type": "code",
   "execution_count": 1196,
   "id": "cbe5c9c1",
   "metadata": {},
   "outputs": [
    {
     "data": {
      "text/plain": [
       "0"
      ]
     },
     "execution_count": 1196,
     "metadata": {},
     "output_type": "execute_result"
    }
   ],
   "source": [
    "flash_count"
   ]
  },
  {
   "cell_type": "code",
   "execution_count": null,
   "id": "67f89646",
   "metadata": {},
   "outputs": [],
   "source": [
    "# part 2"
   ]
  }
 ],
 "metadata": {
  "kernelspec": {
   "display_name": "Python 3",
   "language": "python",
   "name": "python3"
  },
  "language_info": {
   "codemirror_mode": {
    "name": "ipython",
    "version": 3
   },
   "file_extension": ".py",
   "mimetype": "text/x-python",
   "name": "python",
   "nbconvert_exporter": "python",
   "pygments_lexer": "ipython3",
   "version": "3.8.8"
  }
 },
 "nbformat": 4,
 "nbformat_minor": 5
}
