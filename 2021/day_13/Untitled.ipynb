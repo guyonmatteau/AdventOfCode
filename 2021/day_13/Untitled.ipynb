{
 "cells": [
  {
   "cell_type": "code",
   "execution_count": 234,
   "id": "ff71726d",
   "metadata": {},
   "outputs": [],
   "source": [
    "f = open('input').read().split('\\n')[:-1]"
   ]
  },
  {
   "cell_type": "code",
   "execution_count": 235,
   "id": "7be65f32",
   "metadata": {},
   "outputs": [],
   "source": [
    "g = [[int(x) for x in y.split(',')] for y in f]"
   ]
  },
  {
   "cell_type": "code",
   "execution_count": 236,
   "id": "9e88913b",
   "metadata": {},
   "outputs": [],
   "source": [
    "def create_grid(inp):\n",
    "    h_max = max(h[0] for h in g)\n",
    "    v_max = max(h[1] for h in g)\n",
    "\n",
    "    grid = [[0 for _ in range(h_max + 1)] for _ in range(v_max + 1)]\n",
    "    for i, j in inp:\n",
    "        grid[j][i] = 1\n",
    "    \n",
    "    return grid"
   ]
  },
  {
   "cell_type": "code",
   "execution_count": 237,
   "id": "7eb115e6",
   "metadata": {},
   "outputs": [],
   "source": [
    "def fold(m, h=None, v=None):\n",
    "    n = m\n",
    "    \n",
    "    if h is not None:\n",
    "        for i in range(1, len(n) - h):\n",
    "\n",
    "            for j in range(len(n[0])):\n",
    "\n",
    "                n[h - i][j] = max(n[h + i][j], n[h - i][j])\n",
    "        n = n[:h]\n",
    "    \n",
    "    if v is not None:\n",
    "        \n",
    "        # get lengths in advance otherwise the loop changes\n",
    "        len_y = len(n)\n",
    "        len_x = len(n[0])\n",
    "\n",
    "        for i in range(0, len_y):\n",
    "            for j in range(1, len_x - v):\n",
    "                n[i][v - j] = max(n[i][v - j], n[i][v + j])\n",
    "            n[i] = n[i][:v]\n",
    "    return n"
   ]
  },
  {
   "cell_type": "code",
   "execution_count": 238,
   "id": "13c6a693",
   "metadata": {},
   "outputs": [],
   "source": [
    "m = create_grid(g)"
   ]
  },
  {
   "cell_type": "code",
   "execution_count": 239,
   "id": "92bcb6f8",
   "metadata": {},
   "outputs": [],
   "source": [
    "def print_grid(m):\n",
    "    for x in m:\n",
    "        print(\"\".join([\"#\" if y else \".\" for y in x]))\n",
    "        "
   ]
  },
  {
   "cell_type": "code",
   "execution_count": 240,
   "id": "e8bacad4",
   "metadata": {},
   "outputs": [],
   "source": [
    "def count_dots(m):\n",
    "    count = 0\n",
    "    for i in m:\n",
    "        for j in i:\n",
    "            count += j\n",
    "    return count"
   ]
  },
  {
   "cell_type": "code",
   "execution_count": 241,
   "id": "7f3c113d",
   "metadata": {},
   "outputs": [],
   "source": [
    "foldings = open('foldings').read().replace('fold along ', '').split('\\n')[:-1]"
   ]
  },
  {
   "cell_type": "code",
   "execution_count": 242,
   "id": "6f47e80b",
   "metadata": {},
   "outputs": [
    {
     "data": {
      "text/plain": [
       "['x=655',\n",
       " 'y=447',\n",
       " 'x=327',\n",
       " 'y=223',\n",
       " 'x=163',\n",
       " 'y=111',\n",
       " 'x=81',\n",
       " 'y=55',\n",
       " 'x=40',\n",
       " 'y=27',\n",
       " 'y=13',\n",
       " 'y=6']"
      ]
     },
     "execution_count": 242,
     "metadata": {},
     "output_type": "execute_result"
    }
   ],
   "source": [
    "foldings"
   ]
  },
  {
   "cell_type": "code",
   "execution_count": 243,
   "id": "7f896ebc",
   "metadata": {},
   "outputs": [],
   "source": [
    "for folding in foldings:\n",
    "    if folding[0] == \"x\":\n",
    "        m = fold(m, v=int(folding[2:]))\n",
    "    else:\n",
    "        m = fold(m, h=int(folding[2:]))"
   ]
  },
  {
   "cell_type": "code",
   "execution_count": 244,
   "id": "839067b7",
   "metadata": {},
   "outputs": [
    {
     "name": "stdout",
     "output_type": "stream",
     "text": [
      "###..#..#.#..#.####.####..##..#..#.###..\n",
      "#..#.#.#..#..#.#.......#.#..#.#..#.#..#.\n",
      "#..#.##...####.###....#..#....#..#.###..\n",
      "###..#.#..#..#.#.....#...#.##.#..#.#..#.\n",
      "#.#..#.#..#..#.#....#....#..#.#..#.#..#.\n",
      "#..#.#..#.#..#.#....####..###..##..###..\n"
     ]
    }
   ],
   "source": [
    "print_grid(m)"
   ]
  },
  {
   "cell_type": "code",
   "execution_count": 233,
   "id": "c587e05f",
   "metadata": {},
   "outputs": [
    {
     "data": {
      "text/plain": [
       "15"
      ]
     },
     "execution_count": 233,
     "metadata": {},
     "output_type": "execute_result"
    }
   ],
   "source": [
    "count_dots(m)"
   ]
  },
  {
   "cell_type": "code",
   "execution_count": null,
   "id": "b21cae72",
   "metadata": {},
   "outputs": [],
   "source": []
  }
 ],
 "metadata": {
  "kernelspec": {
   "display_name": "Python 3",
   "language": "python",
   "name": "python3"
  },
  "language_info": {
   "codemirror_mode": {
    "name": "ipython",
    "version": 3
   },
   "file_extension": ".py",
   "mimetype": "text/x-python",
   "name": "python",
   "nbconvert_exporter": "python",
   "pygments_lexer": "ipython3",
   "version": "3.8.8"
  }
 },
 "nbformat": 4,
 "nbformat_minor": 5
}
