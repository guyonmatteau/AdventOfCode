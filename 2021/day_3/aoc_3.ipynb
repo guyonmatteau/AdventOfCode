{
 "cells": [
  {
   "cell_type": "code",
   "execution_count": null,
   "id": "e23b7ca2",
   "metadata": {},
   "outputs": [],
   "source": [
    "f = open(\"input\").read().split(\"\\n\")"
   ]
  },
  {
   "cell_type": "code",
   "execution_count": null,
   "id": "bb1a7141",
   "metadata": {},
   "outputs": [],
   "source": [
    "f"
   ]
  },
  {
   "cell_type": "code",
   "execution_count": null,
   "id": "743befd5",
   "metadata": {},
   "outputs": [],
   "source": [
    "f = f[:-1]"
   ]
  },
  {
   "cell_type": "code",
   "execution_count": null,
   "id": "36c26a73",
   "metadata": {},
   "outputs": [],
   "source": [
    "counts = []\n",
    "for i in range(len(f[0])):\n",
    "    counts.append(sum([int(x[i:i+1]) for x in f]))"
   ]
  },
  {
   "cell_type": "code",
   "execution_count": null,
   "id": "c8c7de1b",
   "metadata": {},
   "outputs": [],
   "source": [
    "counts"
   ]
  },
  {
   "cell_type": "code",
   "execution_count": null,
   "id": "ecd4368b",
   "metadata": {},
   "outputs": [],
   "source": [
    "len(counts)"
   ]
  },
  {
   "cell_type": "code",
   "execution_count": null,
   "id": "a8938096",
   "metadata": {},
   "outputs": [],
   "source": [
    "gamma = \"\".join([\"1\" if x > 500 else \"0\" for x in counts])"
   ]
  },
  {
   "cell_type": "code",
   "execution_count": null,
   "id": "a6248c36",
   "metadata": {},
   "outputs": [],
   "source": [
    "gamma"
   ]
  },
  {
   "cell_type": "code",
   "execution_count": null,
   "id": "fb079f2e",
   "metadata": {},
   "outputs": [],
   "source": [
    "epsilon = \"\".join([\"0\" if x > 500 else \"1\" for x in counts])"
   ]
  },
  {
   "cell_type": "code",
   "execution_count": null,
   "id": "5b5c3c5d",
   "metadata": {},
   "outputs": [],
   "source": [
    "epsilon"
   ]
  },
  {
   "cell_type": "code",
   "execution_count": null,
   "id": "3c09d25e",
   "metadata": {},
   "outputs": [],
   "source": [
    "int(gamma, 2)"
   ]
  },
  {
   "cell_type": "code",
   "execution_count": null,
   "id": "7c7bfc6d",
   "metadata": {},
   "outputs": [],
   "source": [
    "int(epsilon, 2)"
   ]
  },
  {
   "cell_type": "code",
   "execution_count": null,
   "id": "de0a2a6c",
   "metadata": {},
   "outputs": [],
   "source": [
    "int(gamma, 2) * int(epsilon, 2)"
   ]
  },
  {
   "cell_type": "code",
   "execution_count": null,
   "id": "6b62db0c",
   "metadata": {},
   "outputs": [],
   "source": [
    "# part 2"
   ]
  },
  {
   "cell_type": "code",
   "execution_count": null,
   "id": "050b9bd0",
   "metadata": {},
   "outputs": [],
   "source": [
    "inp = f\n",
    "n = 0\n",
    "while len(inp) > 1:\n",
    "    count = sum([int(x[n:n+1]) for x in inp])\n",
    "    print(len(inp))\n",
    "    if count >= len(inp) / 2:\n",
    "        inp = [y for y in inp if y[n:n+1] == \"1\"]\n",
    "    else:\n",
    "        inp = [y for y in inp if y[n:n+1] == \"0\"]\n",
    "    n+=1\n",
    "    "
   ]
  },
  {
   "cell_type": "code",
   "execution_count": null,
   "id": "755393c8",
   "metadata": {},
   "outputs": [],
   "source": [
    "ox_genr = int(inp[0], 2)"
   ]
  },
  {
   "cell_type": "code",
   "execution_count": null,
   "id": "b02b8710",
   "metadata": {},
   "outputs": [],
   "source": [
    "ox_genr"
   ]
  },
  {
   "cell_type": "code",
   "execution_count": null,
   "id": "f5510d97",
   "metadata": {},
   "outputs": [],
   "source": [
    "inp2 = f\n",
    "n = 0\n",
    "while len(inp2) > 1:\n",
    "    count = sum([int(x[n:n+1]) for x in inp2])\n",
    "    print(len(inp2))\n",
    "    if count >= len(inp2) / 2:\n",
    "        inp2 = [y for y in inp2 if y[n:n+1] == \"0\"]\n",
    "    else:\n",
    "        inp2 = [y for y in inp2 if y[n:n+1] == \"1\"]\n",
    "    n+=1\n",
    "    "
   ]
  },
  {
   "cell_type": "code",
   "execution_count": null,
   "id": "ebce61ae",
   "metadata": {},
   "outputs": [],
   "source": [
    "inp2"
   ]
  },
  {
   "cell_type": "code",
   "execution_count": null,
   "id": "a2e5abce",
   "metadata": {},
   "outputs": [],
   "source": [
    "scrubr = int(inp2[0], 2)"
   ]
  },
  {
   "cell_type": "code",
   "execution_count": null,
   "id": "98d2c230",
   "metadata": {},
   "outputs": [],
   "source": [
    "scrubr"
   ]
  },
  {
   "cell_type": "code",
   "execution_count": null,
   "id": "22bda183",
   "metadata": {},
   "outputs": [],
   "source": [
    "ox_genr * scrubr"
   ]
  },
  {
   "cell_type": "code",
   "execution_count": null,
   "id": "c1d06ef0",
   "metadata": {},
   "outputs": [],
   "source": []
  }
 ],
 "metadata": {
  "kernelspec": {
   "display_name": "Python 3",
   "language": "python",
   "name": "python3"
  },
  "language_info": {
   "codemirror_mode": {
    "name": "ipython",
    "version": 3
   },
   "file_extension": ".py",
   "mimetype": "text/x-python",
   "name": "python",
   "nbconvert_exporter": "python",
   "pygments_lexer": "ipython3",
   "version": "3.8.8"
  }
 },
 "nbformat": 4,
 "nbformat_minor": 5
}
