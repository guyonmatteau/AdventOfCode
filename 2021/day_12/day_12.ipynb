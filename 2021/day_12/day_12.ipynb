{
 "cells": [
  {
   "cell_type": "code",
   "execution_count": null,
   "id": "37b6d38f",
   "metadata": {},
   "outputs": [],
   "source": [
    "f = open('input').read().split('\\n')[:-1]"
   ]
  },
  {
   "cell_type": "code",
   "execution_count": null,
   "id": "26fcc075",
   "metadata": {},
   "outputs": [],
   "source": [
    "g = [x.split('-') for x in f]"
   ]
  },
  {
   "cell_type": "code",
   "execution_count": null,
   "id": "b727d615",
   "metadata": {},
   "outputs": [],
   "source": [
    "paths = [['start']]"
   ]
  },
  {
   "cell_type": "code",
   "execution_count": null,
   "id": "87119ff7",
   "metadata": {},
   "outputs": [],
   "source": [
    "def in_path(con, val):\n",
    "    return val in con\n",
    "\n",
    "def get_con_val(con, val):\n",
    "    \"\"\"E.g. if [A, end], val A should return end\"\"\"\n",
    "    if con[0] == val:\n",
    "        return con[1]\n",
    "    else:\n",
    "        return con[0]\n",
    "    "
   ]
  },
  {
   "cell_type": "code",
   "execution_count": null,
   "id": "d1def9ad",
   "metadata": {},
   "outputs": [],
   "source": [
    "def contains_small_cave_twice(path):\n",
    "    \"\"\"Check if there already are small caves visited twice.\"\"\"\n",
    "    small_caves = [x for x in path if x.islower() and len(x) == 2]\n",
    "    return any(path.count(c) == 2 for c in small_caves)"
   ]
  },
  {
   "cell_type": "code",
   "execution_count": null,
   "id": "413a89bd",
   "metadata": {},
   "outputs": [],
   "source": [
    "def is_valid(path, val):\n",
    "    \"\"\"Check whether the next edge is valid.\"\"\"\n",
    "    if val == 'start':\n",
    "        return False\n",
    "    if val.islower() and path.count(val) >= 1:\n",
    "        if not contains_small_cave_twice(path):\n",
    "            return True\n",
    "        else:\n",
    "            return False\n",
    "    else:\n",
    "        return True\n"
   ]
  },
  {
   "cell_type": "code",
   "execution_count": null,
   "id": "68eb678e",
   "metadata": {},
   "outputs": [],
   "source": [
    "def next_paths(paths):\n",
    "    \"\"\"Create next step for all paths\"\"\"\n",
    "    n_paths = []\n",
    "\n",
    "    for i in range(len(paths)):\n",
    "\n",
    "        path = paths[i]\n",
    "        edge = path[-1]\n",
    "        \n",
    "        # if the path is already complete add it as is\n",
    "        if edge == 'end':\n",
    "            n_paths += [path]\n",
    "            \n",
    "        # if not complete add step and add\n",
    "        else:\n",
    "            for j in g:\n",
    "                if in_path(j, edge):\n",
    "                    con_val = get_con_val(j, edge)\n",
    "                    if is_valid(path, con_val):\n",
    "                        n_path = path + [con_val]\n",
    "                        n_paths += [n_path]\n",
    "            \n",
    "    return n_paths"
   ]
  },
  {
   "cell_type": "code",
   "execution_count": null,
   "id": "15a356f6",
   "metadata": {},
   "outputs": [],
   "source": [
    "def is_complete(path):\n",
    "    return 'end' in path"
   ]
  },
  {
   "cell_type": "code",
   "execution_count": null,
   "id": "fd6ff719",
   "metadata": {},
   "outputs": [],
   "source": [
    "paths = [['start']]\n",
    "\n",
    "complete = all(is_complete(path) for path in paths)\n",
    "\n",
    "# continue unil no path is added\n",
    "while not complete:\n",
    "    paths = next_paths(paths)\n",
    "    complete = all(is_complete(path) for path in paths)"
   ]
  },
  {
   "cell_type": "code",
   "execution_count": null,
   "id": "f1dd71ed",
   "metadata": {},
   "outputs": [],
   "source": [
    "paths"
   ]
  },
  {
   "cell_type": "code",
   "execution_count": null,
   "id": "1b7d19ec",
   "metadata": {},
   "outputs": [],
   "source": [
    "len(paths)"
   ]
  }
 ],
 "metadata": {
  "kernelspec": {
   "display_name": "Python 3",
   "language": "python",
   "name": "python3"
  },
  "language_info": {
   "codemirror_mode": {
    "name": "ipython",
    "version": 3
   },
   "file_extension": ".py",
   "mimetype": "text/x-python",
   "name": "python",
   "nbconvert_exporter": "python",
   "pygments_lexer": "ipython3",
   "version": "3.8.8"
  }
 },
 "nbformat": 4,
 "nbformat_minor": 5
}
