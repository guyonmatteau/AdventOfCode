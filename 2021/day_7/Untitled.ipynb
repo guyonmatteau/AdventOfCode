{
 "cells": [
  {
   "cell_type": "code",
   "execution_count": null,
   "id": "acf5a622",
   "metadata": {},
   "outputs": [],
   "source": [
    "inp = open('input').read().replace('\\n', '').split(',')\n"
   ]
  },
  {
   "cell_type": "code",
   "execution_count": null,
   "id": "629cddee",
   "metadata": {},
   "outputs": [],
   "source": [
    "inp = [int(x) for x in inp]"
   ]
  },
  {
   "cell_type": "code",
   "execution_count": null,
   "id": "42d6d879",
   "metadata": {},
   "outputs": [],
   "source": [
    "inp = [16,1,2,0,4,2,7,1,2,14]\n"
   ]
  },
  {
   "cell_type": "code",
   "execution_count": null,
   "id": "64027200",
   "metadata": {},
   "outputs": [],
   "source": [
    "sum(inp) / len(inp)"
   ]
  },
  {
   "cell_type": "code",
   "execution_count": null,
   "id": "7d618115",
   "metadata": {},
   "outputs": [],
   "source": [
    "max(inp)"
   ]
  },
  {
   "cell_type": "code",
   "execution_count": null,
   "id": "bfd89f30",
   "metadata": {},
   "outputs": [],
   "source": [
    "sum(inp) / len(inp)"
   ]
  },
  {
   "cell_type": "code",
   "execution_count": null,
   "id": "3e44b566",
   "metadata": {},
   "outputs": [],
   "source": [
    "def determine_cost(input_, n):\n",
    "    return sum(abs(x - n) for x in input_)\n",
    "\n",
    "def determine_cost_inc(input_, n):\n",
    "    return sum(sum(_ for _ in range(abs(x - n) + 1)) for x in input_)"
   ]
  },
  {
   "cell_type": "code",
   "execution_count": null,
   "id": "d7cb10ce",
   "metadata": {},
   "outputs": [],
   "source": [
    "costs = []\n",
    "for k in range(500):\n",
    "    cost = determine_cost_inc(inp, k)\n",
    "    costs.append(cost)\n",
    "    \n",
    "    \n",
    "    "
   ]
  },
  {
   "cell_type": "code",
   "execution_count": null,
   "id": "b9015e2a",
   "metadata": {},
   "outputs": [],
   "source": []
  },
  {
   "cell_type": "markdown",
   "id": "fdf24b10",
   "metadata": {},
   "source": [
    "#### "
   ]
  }
 ],
 "metadata": {
  "kernelspec": {
   "display_name": "Python 3",
   "language": "python",
   "name": "python3"
  },
  "language_info": {
   "codemirror_mode": {
    "name": "ipython",
    "version": 3
   },
   "file_extension": ".py",
   "mimetype": "text/x-python",
   "name": "python",
   "nbconvert_exporter": "python",
   "pygments_lexer": "ipython3",
   "version": "3.8.8"
  }
 },
 "nbformat": 4,
 "nbformat_minor": 5
}
