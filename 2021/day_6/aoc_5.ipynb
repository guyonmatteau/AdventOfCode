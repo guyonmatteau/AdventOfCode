{
 "cells": [
  {
   "cell_type": "code",
   "execution_count": null,
   "id": "c5976534",
   "metadata": {},
   "outputs": [],
   "source": [
    "inp = open('input', 'r').read().split('\\n')"
   ]
  },
  {
   "cell_type": "code",
   "execution_count": null,
   "id": "919122a3",
   "metadata": {},
   "outputs": [],
   "source": [
    "inp = [x.split(' -> ') for x in inp][:-1]"
   ]
  },
  {
   "cell_type": "code",
   "execution_count": null,
   "id": "6ff5376c",
   "metadata": {},
   "outputs": [],
   "source": [
    "inp"
   ]
  },
  {
   "cell_type": "code",
   "execution_count": null,
   "id": "dd070964",
   "metadata": {},
   "outputs": [],
   "source": []
  },
  {
   "cell_type": "code",
   "execution_count": null,
   "id": "3509a960",
   "metadata": {},
   "outputs": [],
   "source": [
    "input_ = [x[0].split(',') + x[1].split(',') for x in inp]"
   ]
  },
  {
   "cell_type": "code",
   "execution_count": null,
   "id": "d00b9094",
   "metadata": {},
   "outputs": [],
   "source": [
    "sel = [[int(x) for x in y] for y in input_]"
   ]
  },
  {
   "cell_type": "code",
   "execution_count": null,
   "id": "96162858",
   "metadata": {},
   "outputs": [],
   "source": [
    "any(x[0] == x[3] and x[1] == x[2] for x in sel)"
   ]
  },
  {
   "cell_type": "code",
   "execution_count": null,
   "id": "86eee4f1",
   "metadata": {},
   "outputs": [],
   "source": [
    "len(sel)"
   ]
  },
  {
   "cell_type": "code",
   "execution_count": null,
   "id": "c726326d",
   "metadata": {},
   "outputs": [],
   "source": [
    "sel"
   ]
  },
  {
   "cell_type": "code",
   "execution_count": null,
   "id": "1f50bed0",
   "metadata": {},
   "outputs": [],
   "source": [
    "matrix = [[0 for _ in\n",
    "           range(1000)] for _ in range(1000)]"
   ]
  },
  {
   "cell_type": "code",
   "execution_count": null,
   "id": "efbc73c7",
   "metadata": {},
   "outputs": [],
   "source": [
    "diagonals = [x for x in sel if (x[0] == x[3] and x[1] == x[2]) or \n",
    "             (x[0] == x[1] and x[2] == x[3]) or\n",
    "            (x[2] - x[0] == x[3] - x[1])]\n",
    "verticals = [x for x in sel if x[0] == x[2]]\n",
    "horizontals = [x for x in sel if x[1] == x[3]]\n"
   ]
  },
  {
   "cell_type": "code",
   "execution_count": null,
   "id": "5f18bbef",
   "metadata": {},
   "outputs": [],
   "source": [
    "len(diagonals) + len(verticals) + len(horizontals)"
   ]
  },
  {
   "cell_type": "code",
   "execution_count": null,
   "id": "bcf45032",
   "metadata": {},
   "outputs": [],
   "source": [
    "matrix"
   ]
  },
  {
   "cell_type": "code",
   "execution_count": null,
   "id": "f0bdf112",
   "metadata": {},
   "outputs": [],
   "source": [
    "test_ver = [[3, 4, 3, 1], [6, 2, 6, 9]] # VERTICAL\n",
    "test_hor = [[1, 4, 6, 4], [4, 2, 2, 2]]  # HORIZONTAL\n",
    "test_diag = [[2, 3 ,4, 5], [1, 7, 4, 4]]  # DIAGONALS"
   ]
  },
  {
   "cell_type": "code",
   "execution_count": null,
   "id": "e54dae30",
   "metadata": {},
   "outputs": [],
   "source": []
  },
  {
   "cell_type": "code",
   "execution_count": null,
   "id": "ab2c70e5",
   "metadata": {},
   "outputs": [],
   "source": [
    "# horizontal\n",
    "for line in horizontals:\n",
    "    y = line[1]\n",
    "    x1 = line[0]\n",
    "    x2 = line[2]\n",
    "    \n",
    "    if x1 > x2:\n",
    "        x_tmp = x1\n",
    "        x1 = x2\n",
    "        x2 = x_tmp\n",
    "    \n",
    "    for i in range(x1, x2 + 1):\n",
    "        matrix[y][i] += 1  # switch indices "
   ]
  },
  {
   "cell_type": "code",
   "execution_count": null,
   "id": "348f27be",
   "metadata": {},
   "outputs": [],
   "source": [
    "# vertical\n",
    "for line in verticals:\n",
    "    x = line[0]\n",
    "    y1 = line[1]\n",
    "    y2 = line[3]\n",
    "    \n",
    "    if y1 > y2:\n",
    "        y_tmp = y1\n",
    "        y1 = y2\n",
    "        y2 = y_tmp\n",
    "    \n",
    "    for i in range(y1, y2 + 1):\n",
    "        matrix[i][x] += 1"
   ]
  },
  {
   "cell_type": "code",
   "execution_count": null,
   "id": "4cc0895c",
   "metadata": {},
   "outputs": [],
   "source": [
    "# diagonals\n",
    "# [22, 101, 761, 840],\n",
    "#  [165, 150, 822, 807],\n",
    "#  [762, 863, 405, 506]\n",
    "\n",
    "# [[3, 5, 1, 3], [2, 3 ,4, 5]]\n",
    "for line in diagonals:\n",
    "    \n",
    "    x1 = line[0]\n",
    "    y1 = line[1]\n",
    "    x2 = line[2]\n",
    "    y2 = line[3]\n",
    "    \n",
    "    if x1 < x2 and y1 < y2:\n",
    "        \n",
    "        diff = x2 - x1\n",
    "        \n",
    "        for i in range(diff + 1):\n",
    "            matrix[y1 + i][x1 + i] += 1\n",
    "#             pass\n",
    "#             print(x1 + i, y1 + i)\n",
    "        \n",
    "    if y1 > y2:\n",
    "        \n",
    "        diff = y1 - y2\n",
    "        \n",
    "        for i in range(diff + 1):\n",
    "#             print(x1 + i, y1 - i)\n",
    "            matrix[y1 - i][x1 + i] += 1\n",
    "    \n",
    "#     a = line[0]\n",
    "#     b = line[2]\n",
    "#     for i in range(a, b + 1):\n",
    "#         matrix[i][i] += 1\n",
    "        "
   ]
  },
  {
   "cell_type": "code",
   "execution_count": null,
   "id": "b0a30bf6",
   "metadata": {},
   "outputs": [],
   "source": [
    "for i in range(2 + 1):\n",
    "    print(2 + i, 3 + i)"
   ]
  },
  {
   "cell_type": "code",
   "execution_count": null,
   "id": "217cc6bc",
   "metadata": {},
   "outputs": [],
   "source": [
    "matrix"
   ]
  },
  {
   "cell_type": "code",
   "execution_count": null,
   "id": "75dfa891",
   "metadata": {},
   "outputs": [],
   "source": [
    "count = 0\n",
    "for x in matrix:\n",
    "    for y in x:\n",
    "        if y >= 2:\n",
    "            count += 1"
   ]
  },
  {
   "cell_type": "code",
   "execution_count": null,
   "id": "fae91726",
   "metadata": {},
   "outputs": [],
   "source": [
    "count"
   ]
  },
  {
   "cell_type": "code",
   "execution_count": null,
   "id": "d1fd341e",
   "metadata": {},
   "outputs": [],
   "source": []
  },
  {
   "cell_type": "code",
   "execution_count": null,
   "id": "3bd25ef4",
   "metadata": {},
   "outputs": [],
   "source": []
  }
 ],
 "metadata": {
  "kernelspec": {
   "display_name": "Python 3 (ipykernel)",
   "language": "python",
   "name": "python3"
  },
  "language_info": {
   "codemirror_mode": {
    "name": "ipython",
    "version": 3
   },
   "file_extension": ".py",
   "mimetype": "text/x-python",
   "name": "python",
   "nbconvert_exporter": "python",
   "pygments_lexer": "ipython3",
   "version": "3.9.7"
  }
 },
 "nbformat": 4,
 "nbformat_minor": 5
}
