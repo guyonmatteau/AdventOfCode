{
 "cells": [
  {
   "cell_type": "code",
   "execution_count": 184,
   "id": "a06c5bb1",
   "metadata": {},
   "outputs": [],
   "source": [
    "inp_ = open(\"input\", \"r\").read()"
   ]
  },
  {
   "cell_type": "code",
   "execution_count": 185,
   "id": "0e77c12a",
   "metadata": {},
   "outputs": [],
   "source": [
    "inp_ = inp_.replace('\\n', '').split(',')"
   ]
  },
  {
   "cell_type": "code",
   "execution_count": 186,
   "id": "079619e5",
   "metadata": {},
   "outputs": [],
   "source": [
    "inp_ = [int(x) for x in inp_]"
   ]
  },
  {
   "cell_type": "code",
   "execution_count": 187,
   "id": "d5d118d8",
   "metadata": {},
   "outputs": [],
   "source": [
    "# inp_ = [3, 4, 3, 1, 2]"
   ]
  },
  {
   "cell_type": "code",
   "execution_count": 188,
   "id": "a0d4d895",
   "metadata": {},
   "outputs": [],
   "source": [
    "day = 0\n",
    "fish_population = inp_\n",
    "fish_count = 9 * [0]\n",
    "\n",
    "# first determine start population\n",
    "for fish in fish_population:\n",
    "    fish_count[fish] += 1\n"
   ]
  },
  {
   "cell_type": "code",
   "execution_count": 189,
   "id": "139fa645",
   "metadata": {},
   "outputs": [
    {
     "data": {
      "text/plain": [
       "[0, 88, 59, 46, 57, 50, 0, 0, 0]"
      ]
     },
     "execution_count": 189,
     "metadata": {},
     "output_type": "execute_result"
    }
   ],
   "source": [
    "fish_count"
   ]
  },
  {
   "cell_type": "code",
   "execution_count": 190,
   "id": "562f81da",
   "metadata": {},
   "outputs": [],
   "source": [
    "# then model population    \n",
    "while day < 256:\n",
    "    \n",
    "    fish_on_zero = fish_count[0]\n",
    "    \n",
    "    for n in range(0, 8):\n",
    "        fish_count[n] = fish_count[n+1]\n",
    "    \n",
    "    fish_count[6] += fish_on_zero\n",
    "    fish_count[8] = fish_on_zero\n",
    "    \n",
    "    day += 1\n",
    "        \n",
    "        "
   ]
  },
  {
   "cell_type": "code",
   "execution_count": 193,
   "id": "68a9568d",
   "metadata": {},
   "outputs": [
    {
     "data": {
      "text/plain": [
       "1605400130036"
      ]
     },
     "execution_count": 193,
     "metadata": {},
     "output_type": "execute_result"
    }
   ],
   "source": [
    "sum(fish_count)"
   ]
  },
  {
   "cell_type": "code",
   "execution_count": null,
   "id": "90cf8866",
   "metadata": {},
   "outputs": [],
   "source": []
  }
 ],
 "metadata": {
  "kernelspec": {
   "display_name": "Python 3 (ipykernel)",
   "language": "python",
   "name": "python3"
  },
  "language_info": {
   "codemirror_mode": {
    "name": "ipython",
    "version": 3
   },
   "file_extension": ".py",
   "mimetype": "text/x-python",
   "name": "python",
   "nbconvert_exporter": "python",
   "pygments_lexer": "ipython3",
   "version": "3.9.7"
  }
 },
 "nbformat": 4,
 "nbformat_minor": 5
}
