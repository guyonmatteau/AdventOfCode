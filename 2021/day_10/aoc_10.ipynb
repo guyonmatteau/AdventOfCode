{
 "cells": [
  {
   "cell_type": "code",
   "execution_count": null,
   "id": "b5acdd4a",
   "metadata": {},
   "outputs": [],
   "source": [
    "f = open('input').read().split('\\n')[:-1]"
   ]
  },
  {
   "cell_type": "code",
   "execution_count": null,
   "id": "5e128ace",
   "metadata": {},
   "outputs": [],
   "source": [
    "left = ['[', '(', '{', '<']\n",
    "right = [']', ')', '}', '>']\n",
    "chunks = ['[]', '{}', '()', '<>']"
   ]
  },
  {
   "cell_type": "code",
   "execution_count": null,
   "id": "977bddc9",
   "metadata": {},
   "outputs": [],
   "source": [
    "def is_corrupt(seq):\n",
    "    \"\"\"Determine if a sequence is corrupt.\"\"\"\n",
    "    if seq[0] in left and seq[1] in right:\n",
    "        return left.index(seq[0]) != right.index(seq[1])\n",
    "        \n",
    "    return None"
   ]
  },
  {
   "cell_type": "code",
   "execution_count": null,
   "id": "9bbd417c",
   "metadata": {},
   "outputs": [],
   "source": [
    "def line_incomplete(line, type_):\n",
    "    \"\"\"Checks if there are no chars left to check against\"\"\"\n",
    "    counter = 0\n",
    "    for i in line:\n",
    "        if i in type_:\n",
    "            counter += 1\n",
    "    return counter"
   ]
  },
  {
   "cell_type": "code",
   "execution_count": null,
   "id": "ebe780b6",
   "metadata": {},
   "outputs": [],
   "source": [
    "line = f[0]"
   ]
  },
  {
   "cell_type": "code",
   "execution_count": null,
   "id": "df5b5eb8",
   "metadata": {},
   "outputs": [],
   "source": [
    "line"
   ]
  },
  {
   "cell_type": "code",
   "execution_count": null,
   "id": "cdf8945e",
   "metadata": {},
   "outputs": [],
   "source": [
    "line_incomplete('[({([[{{', right)"
   ]
  },
  {
   "cell_type": "code",
   "execution_count": null,
   "id": "a84eea24",
   "metadata": {},
   "outputs": [],
   "source": [
    "is_corrupt('}[')"
   ]
  },
  {
   "cell_type": "code",
   "execution_count": null,
   "id": "42586cb7",
   "metadata": {},
   "outputs": [],
   "source": [
    "corrupt_chars = []\n",
    "\n",
    "def check_line(line):\n",
    "    \n",
    "    is_incomplete_bool = False\n",
    "    \n",
    "    while len(line) > 0:\n",
    "        \n",
    "        if line_incomplete(line, left) > 0 and line_incomplete(line, right) == 0:\n",
    "            is_incomplete_bool = True\n",
    "#             print(is_incomplete_bool)\n",
    "            break\n",
    "        \n",
    "        is_corrupt_bool = False\n",
    "        \n",
    "        for i in range(len(line) - 1):\n",
    "            \n",
    "            s = line[i:i+2]\n",
    "            \n",
    "            if is_corrupt(s):\n",
    "                is_corrupt_bool = True\n",
    "                corrupt_chars.append(s[1])\n",
    "                break\n",
    "                \n",
    "            elif is_corrupt(s) is False:\n",
    "#                 print(f'Found {s}')\n",
    "                line = line.replace(s, '')\n",
    "#                 print(f'New line: {line}')\n",
    "                break\n",
    "                \n",
    "            else:\n",
    "                pass\n",
    "        \n",
    "        if is_corrupt_bool:\n",
    "            break\n",
    "    \n",
    "    if is_incomplete_bool:\n",
    "        return line\n",
    "    else:\n",
    "        return False\n",
    "        \n"
   ]
  },
  {
   "cell_type": "code",
   "execution_count": null,
   "id": "238b57fb",
   "metadata": {},
   "outputs": [],
   "source": [
    "for line in f:\n",
    "    check_line(line)"
   ]
  },
  {
   "cell_type": "code",
   "execution_count": null,
   "id": "50a48640",
   "metadata": {},
   "outputs": [],
   "source": [
    "score_map = {')': 3, ']': 57, '}': 1197, '>': 25137}"
   ]
  },
  {
   "cell_type": "code",
   "execution_count": null,
   "id": "3221cfdf",
   "metadata": {},
   "outputs": [],
   "source": [
    "score = sum(score_map[x] for x in corrupt_chars)"
   ]
  },
  {
   "cell_type": "code",
   "execution_count": null,
   "id": "2c740145",
   "metadata": {},
   "outputs": [],
   "source": [
    "score"
   ]
  },
  {
   "cell_type": "code",
   "execution_count": null,
   "id": "da72b5f8",
   "metadata": {},
   "outputs": [],
   "source": [
    "# part 2\n",
    "f2 = [l for l in f if check_line(l)]"
   ]
  },
  {
   "cell_type": "code",
   "execution_count": null,
   "id": "c26494b5",
   "metadata": {},
   "outputs": [],
   "source": [
    "f2"
   ]
  },
  {
   "cell_type": "code",
   "execution_count": null,
   "id": "0ca9f0eb",
   "metadata": {},
   "outputs": [],
   "source": [
    "f3 = [check_line(l) for l in f2]"
   ]
  },
  {
   "cell_type": "code",
   "execution_count": null,
   "id": "f20536b5",
   "metadata": {},
   "outputs": [],
   "source": [
    "f3"
   ]
  },
  {
   "cell_type": "code",
   "execution_count": null,
   "id": "da85e89e",
   "metadata": {},
   "outputs": [],
   "source": [
    "line = f3[0]"
   ]
  },
  {
   "cell_type": "code",
   "execution_count": null,
   "id": "04eeb2ca",
   "metadata": {},
   "outputs": [],
   "source": [
    "def get_opposite(char):\n",
    "    op_dict = {'{': '}', '[':']', '<':'>', '(':')'}\n",
    "    return op_dict[char]\n",
    "\n",
    "def get_closing(line):\n",
    "    closing = ''\n",
    "    for i in range(1, len(line) + 1):\n",
    "#         print(line[-i])\n",
    "        closing += get_opposite(line[-i])\n",
    "    return closing"
   ]
  },
  {
   "cell_type": "code",
   "execution_count": null,
   "id": "a3ec974b",
   "metadata": {},
   "outputs": [],
   "source": [
    "closings = [get_closing(x) for x in f3]"
   ]
  },
  {
   "cell_type": "code",
   "execution_count": null,
   "id": "8c5d7af2",
   "metadata": {},
   "outputs": [],
   "source": [
    "closing_map = {')': 1, ']': 2, '}': 3, '>': 4}\n",
    "\n",
    "def get_score(seq):\n",
    "    score = 0\n",
    "    for i in seq:\n",
    "        score *= 5\n",
    "        score += closing_map[i]\n",
    "    return score"
   ]
  },
  {
   "cell_type": "code",
   "execution_count": null,
   "id": "7b18af74",
   "metadata": {},
   "outputs": [],
   "source": [
    "closing_scores = [get_score(closing) for closing in closings]"
   ]
  },
  {
   "cell_type": "code",
   "execution_count": null,
   "id": "43d011e8",
   "metadata": {},
   "outputs": [],
   "source": [
    "closing_scores"
   ]
  },
  {
   "cell_type": "code",
   "execution_count": null,
   "id": "9bdae36f",
   "metadata": {},
   "outputs": [],
   "source": [
    "sorted(closing_scores)"
   ]
  },
  {
   "cell_type": "code",
   "execution_count": null,
   "id": "c2026b9a",
   "metadata": {},
   "outputs": [],
   "source": [
    "sorted(closing_scores)[int(len(closing_scores) / 2 - 0.5)]"
   ]
  },
  {
   "cell_type": "code",
   "execution_count": null,
   "id": "fbd50417",
   "metadata": {},
   "outputs": [],
   "source": [
    "len(closing_scores)"
   ]
  },
  {
   "cell_type": "code",
   "execution_count": null,
   "id": "dd6eab30",
   "metadata": {},
   "outputs": [],
   "source": []
  }
 ],
 "metadata": {
  "kernelspec": {
   "display_name": "Python 3",
   "language": "python",
   "name": "python3"
  },
  "language_info": {
   "codemirror_mode": {
    "name": "ipython",
    "version": 3
   },
   "file_extension": ".py",
   "mimetype": "text/x-python",
   "name": "python",
   "nbconvert_exporter": "python",
   "pygments_lexer": "ipython3",
   "version": "3.8.8"
  }
 },
 "nbformat": 4,
 "nbformat_minor": 5
}
