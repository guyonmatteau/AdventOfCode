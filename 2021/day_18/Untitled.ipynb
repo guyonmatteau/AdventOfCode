{
 "cells": [
  {
   "cell_type": "code",
   "execution_count": null,
   "id": "a31bf3a0",
   "metadata": {},
   "outputs": [],
   "source": [
    "def get_depth(arr): \n",
    "    return isinstance(arr, list) and max(map(get_depth, arr)) + 1"
   ]
  },
  {
   "cell_type": "code",
   "execution_count": null,
   "id": "06b81e36",
   "metadata": {},
   "outputs": [],
   "source": [
    "number = [[[[1,2],[3,4]],[[5,6],[7,8]]],9]\n",
    "# number = [[1,2],3]\n",
    "number = [7,[6,[5,[4,[3,2]]]]]\n",
    "number = [[[[[9,8],1],2],3],4]\n",
    "# number = [[3,[2,[1,[7,3]]]],[6,[5,[4,[3,2]]]]]"
   ]
  },
  {
   "cell_type": "code",
   "execution_count": null,
   "id": "eaa6d62e",
   "metadata": {},
   "outputs": [],
   "source": [
    "get_depth([[3,[2,[8,0]]],[9,[5,[4,[3,2]]]]])"
   ]
  },
  {
   "cell_type": "code",
   "execution_count": null,
   "id": "485e7e18",
   "metadata": {},
   "outputs": [],
   "source": [
    "get_depth([1, 2])"
   ]
  },
  {
   "cell_type": "code",
   "execution_count": null,
   "id": "40750e09",
   "metadata": {},
   "outputs": [],
   "source": [
    "def is_snailfish(arr):\n",
    "    if type(arr) == list and get_depth(arr) == 1:\n",
    "        return True\n",
    "    return False\n"
   ]
  },
  {
   "cell_type": "code",
   "execution_count": null,
   "id": "389efdf5",
   "metadata": {},
   "outputs": [],
   "source": [
    "is_snailfish([1, [1,2]])"
   ]
  },
  {
   "cell_type": "code",
   "execution_count": null,
   "id": "c89b8472",
   "metadata": {},
   "outputs": [],
   "source": [
    "from typing import List, Tuple\n",
    "\n",
    "def get_pair(arr) -> Tuple[List[int], int, int]:\n",
    "    \"\"\"Get deepest snailfish number and its indices how to get there.\n",
    "    A snailfish number is an array of length 2 where both values are type int.\"\"\"\n",
    "    depth = get_depth(arr)\n",
    "    \n",
    "    if depth = 2\n",
    "    \n",
    "    \n",
    "    \n",
    "    for _ in range(depth - 1):\n",
    " \n",
    "\n",
    "        if type(arr[0]) == int:\n",
    "            arr = arr[-1]\n",
    "            coordination = 1 # right\n",
    "        else:\n",
    "            arr = arr[0]\n",
    "            coordination = 0  # left\n",
    "    return arr, depth - 1, coordination"
   ]
  },
  {
   "cell_type": "code",
   "execution_count": null,
   "id": "0ee37901",
   "metadata": {},
   "outputs": [],
   "source": [
    "def f(arr, depth=0, snailfish=[]):\n",
    "    \n",
    "    if get_depth > 1:\n",
    "        \n",
    "    \n",
    "    elif is_snailfish(i):\n",
    "        snailfish.append(i)\n",
    "    \n",
    "    \n",
    "    for i in arr:\n",
    "        if type(i) == list:\n",
    "            print(i)\n",
    "        \n",
    "#         if get_depth(i) > 1:\n",
    "#             if is_snailfish(i):\n",
    "#                 snailfish.append(i)\n",
    "#                 break\n",
    "#             else:\n",
    "#                 f(i)\n",
    "    \n",
    "    return snailfish"
   ]
  },
  {
   "cell_type": "code",
   "execution_count": null,
   "id": "aae4f798",
   "metadata": {},
   "outputs": [],
   "source": [
    "get_depth([1,2])"
   ]
  },
  {
   "cell_type": "code",
   "execution_count": null,
   "id": "9bffee58",
   "metadata": {},
   "outputs": [],
   "source": [
    "number"
   ]
  },
  {
   "cell_type": "code",
   "execution_count": null,
   "id": "f18908df",
   "metadata": {},
   "outputs": [],
   "source": [
    "f(number)"
   ]
  },
  {
   "cell_type": "code",
   "execution_count": null,
   "id": "0a305434",
   "metadata": {},
   "outputs": [],
   "source": []
  },
  {
   "cell_type": "code",
   "execution_count": null,
   "id": "ea51d01f",
   "metadata": {},
   "outputs": [],
   "source": [
    "def add(arr1, arr2):\n",
    "    return [arr1] + [arr2]"
   ]
  },
  {
   "cell_type": "code",
   "execution_count": null,
   "id": "f1e1b04f",
   "metadata": {},
   "outputs": [],
   "source": [
    "add([1, 2], [[3,4],5])"
   ]
  },
  {
   "cell_type": "code",
   "execution_count": null,
   "id": "8dd2dee4",
   "metadata": {},
   "outputs": [],
   "source": [
    "# for depth - 1 3\n",
    "number"
   ]
  },
  {
   "cell_type": "code",
   "execution_count": null,
   "id": "a4c74333",
   "metadata": {},
   "outputs": [],
   "source": [
    "get_deepest(number)"
   ]
  },
  {
   "cell_type": "code",
   "execution_count": null,
   "id": "a499a405",
   "metadata": {},
   "outputs": [],
   "source": [
    "number"
   ]
  },
  {
   "cell_type": "code",
   "execution_count": null,
   "id": "ed9c8fe2",
   "metadata": {},
   "outputs": [],
   "source": [
    "number = [[[[[9,8],1],2],3],4]\n",
    "\n",
    "number[0][0][0]"
   ]
  },
  {
   "cell_type": "code",
   "execution_count": null,
   "id": "1dba0f91",
   "metadata": {},
   "outputs": [],
   "source": [
    "# explode left\n",
    "def explode_left(number):\n",
    "    n = number[0][0][0]\n",
    "    new_val = [0, n[0][-1] + n[-1]]\n",
    "    number[0][0][0] = new_val\n",
    "    return number"
   ]
  },
  {
   "cell_type": "code",
   "execution_count": null,
   "id": "968b188f",
   "metadata": {},
   "outputs": [],
   "source": [
    "explode_left(number)"
   ]
  },
  {
   "cell_type": "code",
   "execution_count": null,
   "id": "b444d78f",
   "metadata": {},
   "outputs": [],
   "source": [
    "number = [7,[6,[5,[4,[3,2]]]]]\n"
   ]
  },
  {
   "cell_type": "code",
   "execution_count": null,
   "id": "5e7651ef",
   "metadata": {},
   "outputs": [],
   "source": [
    "# explode right\n",
    "def explode_right(number):\n",
    "    n = number[1][1][1]\n",
    "    new_val = [n[0] + n[1][0], 0]\n",
    "    number[1][1][1] = new_val\n",
    "    return number"
   ]
  },
  {
   "cell_type": "code",
   "execution_count": null,
   "id": "1dba84ba",
   "metadata": {},
   "outputs": [],
   "source": [
    "explode_right(number)"
   ]
  },
  {
   "cell_type": "code",
   "execution_count": null,
   "id": "b980c9f6",
   "metadata": {},
   "outputs": [],
   "source": [
    "number = [[6,[5,[4,[3,2]]]],1]"
   ]
  },
  {
   "cell_type": "code",
   "execution_count": null,
   "id": "4e79248c",
   "metadata": {},
   "outputs": [],
   "source": [
    "tre"
   ]
  },
  {
   "cell_type": "code",
   "execution_count": null,
   "id": "73d536d2",
   "metadata": {},
   "outputs": [],
   "source": []
  },
  {
   "cell_type": "code",
   "execution_count": null,
   "id": "36b923cd",
   "metadata": {},
   "outputs": [],
   "source": []
  },
  {
   "cell_type": "code",
   "execution_count": null,
   "id": "31b158e5",
   "metadata": {},
   "outputs": [],
   "source": [
    "get_deepest(number)"
   ]
  },
  {
   "cell_type": "code",
   "execution_count": null,
   "id": "81f445e5",
   "metadata": {},
   "outputs": [],
   "source": [
    "explode_right(number)\n",
    "\n"
   ]
  },
  {
   "cell_type": "code",
   "execution_count": null,
   "id": "791bcee9",
   "metadata": {},
   "outputs": [],
   "source": [
    "get_deepest_left(number)"
   ]
  },
  {
   "cell_type": "code",
   "execution_count": null,
   "id": "5415d809",
   "metadata": {},
   "outputs": [],
   "source": [
    "def explode(arr):\n",
    "    sn, d = get_deepest_left(arr)\n",
    "    "
   ]
  },
  {
   "cell_type": "code",
   "execution_count": null,
   "id": "acfd7284",
   "metadata": {},
   "outputs": [],
   "source": []
  },
  {
   "cell_type": "code",
   "execution_count": null,
   "id": "8869f1bc",
   "metadata": {},
   "outputs": [],
   "source": [
    "number"
   ]
  },
  {
   "cell_type": "code",
   "execution_count": null,
   "id": "e8f36ff9",
   "metadata": {},
   "outputs": [],
   "source": [
    "get_deepest_left(number)"
   ]
  },
  {
   "cell_type": "code",
   "execution_count": null,
   "id": "436bd17e",
   "metadata": {},
   "outputs": [],
   "source": []
  },
  {
   "cell_type": "code",
   "execution_count": null,
   "id": "b2e608e5",
   "metadata": {},
   "outputs": [],
   "source": [
    "def explode(arr):\n",
    "    depth = depth(arr)\n",
    "    "
   ]
  }
 ],
 "metadata": {
  "kernelspec": {
   "display_name": "Python 3",
   "language": "python",
   "name": "python3"
  },
  "language_info": {
   "codemirror_mode": {
    "name": "ipython",
    "version": 3
   },
   "file_extension": ".py",
   "mimetype": "text/x-python",
   "name": "python",
   "nbconvert_exporter": "python",
   "pygments_lexer": "ipython3",
   "version": "3.8.8"
  }
 },
 "nbformat": 4,
 "nbformat_minor": 5
}
