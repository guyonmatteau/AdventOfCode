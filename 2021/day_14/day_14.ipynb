{
 "cells": [
  {
   "cell_type": "code",
   "execution_count": null,
   "id": "0fcca18f",
   "metadata": {},
   "outputs": [],
   "source": [
    "f = open('input').read().split('\\n')[:-1]"
   ]
  },
  {
   "cell_type": "code",
   "execution_count": null,
   "id": "6a1accaf",
   "metadata": {},
   "outputs": [],
   "source": [
    "g = [x.split(' -> ') for x in f]"
   ]
  },
  {
   "cell_type": "code",
   "execution_count": null,
   "id": "c02acf6d",
   "metadata": {},
   "outputs": [],
   "source": [
    "g"
   ]
  },
  {
   "cell_type": "code",
   "execution_count": null,
   "id": "18815022",
   "metadata": {},
   "outputs": [],
   "source": [
    "ins_patterns = [list(x[0]) + [x[1]] for x in g]"
   ]
  },
  {
   "cell_type": "code",
   "execution_count": null,
   "id": "2f995080",
   "metadata": {},
   "outputs": [],
   "source": [
    "template = list(\"NNCB\")\n",
    "template = list(\"OOBFPNOPBHKCCVHOBCSO\")"
   ]
  },
  {
   "cell_type": "code",
   "execution_count": null,
   "id": "da9fe583",
   "metadata": {},
   "outputs": [],
   "source": [
    "template"
   ]
  },
  {
   "cell_type": "code",
   "execution_count": null,
   "id": "b4587c2a",
   "metadata": {},
   "outputs": [],
   "source": [
    "ins_patterns"
   ]
  },
  {
   "cell_type": "code",
   "execution_count": null,
   "id": "ec70f815",
   "metadata": {},
   "outputs": [],
   "source": [
    "def get_dict(patterns):\n",
    "    x = {}\n",
    "    for i in patterns:\n",
    "        x[\"\".join(i[:2])] = i[2]\n",
    "    return x\n",
    "\n",
    "insert_schema = get_dict(ins_patterns)"
   ]
  },
  {
   "cell_type": "code",
   "execution_count": null,
   "id": "7ec9c2a1",
   "metadata": {},
   "outputs": [],
   "source": [
    "insert_schema"
   ]
  },
  {
   "cell_type": "code",
   "execution_count": null,
   "id": "885db12c",
   "metadata": {},
   "outputs": [],
   "source": [
    "def get_letter(pair):\n",
    "    try:\n",
    "        val = insert_schema[\"\".join(pair)]\n",
    "    except IndexError:\n",
    "        val = None\n",
    "    return val"
   ]
  },
  {
   "cell_type": "code",
   "execution_count": null,
   "id": "fe9d0f49",
   "metadata": {},
   "outputs": [],
   "source": [
    "template\n",
    "sets = {}\n",
    "for i in range(len(template) - 1):\n",
    "    pair = \"\".join(template[i:i+2])\n",
    "    if pair not in sets.keys():\n",
    "        sets[pair] = 1\n",
    "    else:\n",
    "        sets[pair] += 1\n",
    "    \n",
    "sets"
   ]
  },
  {
   "cell_type": "code",
   "execution_count": null,
   "id": "f267ef6e",
   "metadata": {},
   "outputs": [],
   "source": [
    "def add_to_set(sets, pair, n=1):\n",
    "    if pair not in sets.keys():\n",
    "        sets[pair] = n\n",
    "    else:\n",
    "        sets[pair] += n\n",
    "    return sets"
   ]
  },
  {
   "cell_type": "code",
   "execution_count": null,
   "id": "d292a257",
   "metadata": {},
   "outputs": [],
   "source": [
    "def get_new_pairs(pair: str):\n",
    "    letter_to_insert = insert_schema[pair]\n",
    "    new_pairs = [pair[:1] + letter_to_insert, letter_to_insert + pair[1:]]\n",
    "    return new_pairs"
   ]
  },
  {
   "cell_type": "code",
   "execution_count": null,
   "id": "e28143d5",
   "metadata": {},
   "outputs": [],
   "source": [
    "steps = 40\n",
    "n = 0\n",
    "while n < steps :\n",
    "\n",
    "    new_set = {}\n",
    "    \n",
    "    for pair in sets.keys():\n",
    "        new_pairs = get_new_pairs(pair)\n",
    "        \n",
    "        m = sets[pair]\n",
    "        \n",
    "        for new_pair in new_pairs:\n",
    "            new_set = add_to_set(new_set, new_pair, n=m)\n",
    "    \n",
    "    sets = new_set\n",
    "        \n",
    "    n += 1\n",
    "        \n"
   ]
  },
  {
   "cell_type": "code",
   "execution_count": null,
   "id": "e71961e0",
   "metadata": {},
   "outputs": [],
   "source": [
    "def count_occurences(sets):\n",
    "    counter = dict.fromkeys(set(list(\"\".join(new_set.keys()))), 0)\n",
    "    for key in sets.keys():\n",
    "        counter[key[0]] += sets[key]\n",
    "        counter[key[1]] += sets[key]\n",
    "    \n",
    "#     counter = {key: int(value / 2 if value % 2 == 0 else (value + 1) / 2) for key, value in counter.items()}\n",
    "    return counter"
   ]
  },
  {
   "cell_type": "code",
   "execution_count": null,
   "id": "5b5caab6",
   "metadata": {},
   "outputs": [],
   "source": []
  },
  {
   "cell_type": "code",
   "execution_count": null,
   "id": "56ef58b6",
   "metadata": {},
   "outputs": [],
   "source": [
    "x = count_occurences(new_set)"
   ]
  },
  {
   "cell_type": "code",
   "execution_count": null,
   "id": "4e276362",
   "metadata": {},
   "outputs": [],
   "source": [
    "x"
   ]
  },
  {
   "cell_type": "code",
   "execution_count": null,
   "id": "77ee93ef",
   "metadata": {},
   "outputs": [],
   "source": [
    "6807255388934 / 2 - (2086657597378 + 2) / 2"
   ]
  },
  {
   "cell_type": "code",
   "execution_count": null,
   "id": "2e6c48cf",
   "metadata": {},
   "outputs": [],
   "source": [
    "max_ = max(x, key=x.get)\n",
    "max_val = int(x[max_])"
   ]
  },
  {
   "cell_type": "code",
   "execution_count": null,
   "id": "ea172c8b",
   "metadata": {},
   "outputs": [],
   "source": [
    "min_ = min(x, key=x.get)\n",
    "min_val = int(x[min_])"
   ]
  },
  {
   "cell_type": "code",
   "execution_count": null,
   "id": "c2eebe74",
   "metadata": {},
   "outputs": [],
   "source": [
    "int(max_val) - int(min_val)"
   ]
  },
  {
   "cell_type": "code",
   "execution_count": null,
   "id": "687e9514",
   "metadata": {},
   "outputs": [],
   "source": [
    "# guess 2360298895778"
   ]
  },
  {
   "cell_type": "code",
   "execution_count": null,
   "id": "fb42b459",
   "metadata": {},
   "outputs": [],
   "source": [
    "def insert_in(inp, letter, index):\n",
    "    inp.insert(index, letter)"
   ]
  },
  {
   "cell_type": "code",
   "execution_count": null,
   "id": "0cb498ac",
   "metadata": {},
   "outputs": [],
   "source": [
    "def insert_into(to_insert, template):\n",
    "    n = 0\n",
    "    for i in to_insert:\n",
    "        template.insert(i[1] + n, i[0])\n",
    "        n += 1\n",
    "    return template"
   ]
  },
  {
   "cell_type": "code",
   "execution_count": null,
   "id": "8f921c1e",
   "metadata": {},
   "outputs": [],
   "source": [
    "def get_insert(ins_patterns, template):\n",
    "    # check which ones to insert\n",
    "    to_insert = []\n",
    "    for i in range(len(template) - 1):\n",
    "        pair_to_check = template[i:i+2]\n",
    "        \n",
    "        letter_to_insert = get_letter(pair_to_check)\n",
    "        \n",
    "        if letter_to_insert is not None:\n",
    "            to_insert.append([letter_to_insert, i + 1,])\n",
    "\n",
    "    # sort them on index\n",
    "    to_insert.sort(key=lambda x: x[1])\n",
    "    \n",
    "    return to_insert"
   ]
  },
  {
   "cell_type": "code",
   "execution_count": null,
   "id": "aa040570",
   "metadata": {},
   "outputs": [],
   "source": [
    "get_insert(ins_patterns, template)"
   ]
  },
  {
   "cell_type": "code",
   "execution_count": null,
   "id": "a43211ae",
   "metadata": {},
   "outputs": [],
   "source": [
    "steps = 40\n",
    "for _ in range(steps):\n",
    "    inserts = get_insert(ins_patterns, template)\n",
    "    template = insert_into(inserts, template)\n"
   ]
  },
  {
   "cell_type": "code",
   "execution_count": null,
   "id": "026c67e0",
   "metadata": {},
   "outputs": [],
   "source": [
    "def count_occurences(template):\n",
    "    count = dict.fromkeys(template, 0)\n",
    "    for i in template:\n",
    "        count[i] += 1\n",
    "    return count"
   ]
  },
  {
   "cell_type": "code",
   "execution_count": null,
   "id": "2d7fc2f8",
   "metadata": {},
   "outputs": [],
   "source": [
    "x = count_occurences(template)"
   ]
  },
  {
   "cell_type": "code",
   "execution_count": null,
   "id": "6c47c203",
   "metadata": {},
   "outputs": [],
   "source": [
    "x"
   ]
  },
  {
   "cell_type": "code",
   "execution_count": null,
   "id": "708c24fb",
   "metadata": {},
   "outputs": [],
   "source": [
    "max_ = max(x, key=x.get)\n",
    "print(max_, x[max_])"
   ]
  },
  {
   "cell_type": "code",
   "execution_count": null,
   "id": "6adbd480",
   "metadata": {},
   "outputs": [],
   "source": [
    "min_ = min(x, key=x.get)\n",
    "print(min_, x[min_])"
   ]
  },
  {
   "cell_type": "code",
   "execution_count": null,
   "id": "ffd6ffef",
   "metadata": {},
   "outputs": [],
   "source": [
    "int(x[max_]) - int(x[min_])"
   ]
  },
  {
   "cell_type": "code",
   "execution_count": null,
   "id": "2de8e9ec",
   "metadata": {},
   "outputs": [],
   "source": [
    "# part 2\n",
    "values = {}\n",
    "\n",
    "for i in range(len(template) - 1):\n",
    "    pair = \"\".join(template[i:i+2])\n",
    "    if pair in values.keys():\n",
    "        values[pair] += 1\n",
    "    else:\n",
    "        values[pair] = 1\n",
    "    "
   ]
  },
  {
   "cell_type": "code",
   "execution_count": null,
   "id": "3b97c6c2",
   "metadata": {},
   "outputs": [],
   "source": [
    "values"
   ]
  },
  {
   "cell_type": "code",
   "execution_count": null,
   "id": "a2cf5d22",
   "metadata": {},
   "outputs": [],
   "source": [
    "dict_input"
   ]
  },
  {
   "cell_type": "code",
   "execution_count": null,
   "id": "e97d0ee5",
   "metadata": {},
   "outputs": [],
   "source": []
  }
 ],
 "metadata": {
  "kernelspec": {
   "display_name": "Python 3",
   "language": "python",
   "name": "python3"
  },
  "language_info": {
   "codemirror_mode": {
    "name": "ipython",
    "version": 3
   },
   "file_extension": ".py",
   "mimetype": "text/x-python",
   "name": "python",
   "nbconvert_exporter": "python",
   "pygments_lexer": "ipython3",
   "version": "3.8.8"
  }
 },
 "nbformat": 4,
 "nbformat_minor": 5
}
