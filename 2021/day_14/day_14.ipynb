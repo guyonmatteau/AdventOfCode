{
 "cells": [
  {
   "cell_type": "code",
   "execution_count": 209,
   "id": "0fcca18f",
   "metadata": {},
   "outputs": [],
   "source": [
    "f = open('input').read().split('\\n')[:-1]"
   ]
  },
  {
   "cell_type": "code",
   "execution_count": 210,
   "id": "6a1accaf",
   "metadata": {},
   "outputs": [],
   "source": [
    "g = [x.split(' -> ') for x in f]"
   ]
  },
  {
   "cell_type": "code",
   "execution_count": 211,
   "id": "c02acf6d",
   "metadata": {},
   "outputs": [
    {
     "data": {
      "text/plain": [
       "[['NS', 'H'],\n",
       " ['NN', 'P'],\n",
       " ['FF', 'O'],\n",
       " ['HF', 'C'],\n",
       " ['KN', 'V'],\n",
       " ['PO', 'B'],\n",
       " ['PS', 'B'],\n",
       " ['FB', 'N'],\n",
       " ['ON', 'F'],\n",
       " ['OK', 'F'],\n",
       " ['OO', 'K'],\n",
       " ['KS', 'F'],\n",
       " ['FN', 'F'],\n",
       " ['KC', 'H'],\n",
       " ['NC', 'N'],\n",
       " ['NB', 'C'],\n",
       " ['KH', 'S'],\n",
       " ['SV', 'B'],\n",
       " ['BC', 'S'],\n",
       " ['KB', 'B'],\n",
       " ['SC', 'S'],\n",
       " ['KP', 'H'],\n",
       " ['FS', 'K'],\n",
       " ['NK', 'K'],\n",
       " ['OC', 'H'],\n",
       " ['NH', 'C'],\n",
       " ['PH', 'F'],\n",
       " ['OS', 'V'],\n",
       " ['BB', 'C'],\n",
       " ['CC', 'F'],\n",
       " ['CF', 'H'],\n",
       " ['CP', 'V'],\n",
       " ['VB', 'N'],\n",
       " ['VC', 'F'],\n",
       " ['PK', 'V'],\n",
       " ['NV', 'N'],\n",
       " ['FO', 'S'],\n",
       " ['CK', 'O'],\n",
       " ['BH', 'K'],\n",
       " ['PN', 'B'],\n",
       " ['PP', 'S'],\n",
       " ['NF', 'B'],\n",
       " ['SF', 'K'],\n",
       " ['VF', 'H'],\n",
       " ['HS', 'F'],\n",
       " ['NP', 'F'],\n",
       " ['SH', 'V'],\n",
       " ['SK', 'K'],\n",
       " ['PC', 'V'],\n",
       " ['BO', 'H'],\n",
       " ['HN', 'P'],\n",
       " ['BK', 'O'],\n",
       " ['BP', 'S'],\n",
       " ['OP', 'N'],\n",
       " ['SP', 'N'],\n",
       " ['KK', 'C'],\n",
       " ['HB', 'H'],\n",
       " ['OF', 'C'],\n",
       " ['VH', 'C'],\n",
       " ['HO', 'N'],\n",
       " ['FK', 'V'],\n",
       " ['NO', 'H'],\n",
       " ['KF', 'S'],\n",
       " ['KO', 'V'],\n",
       " ['PF', 'K'],\n",
       " ['HV', 'C'],\n",
       " ['SO', 'F'],\n",
       " ['SS', 'F'],\n",
       " ['VN', 'K'],\n",
       " ['HH', 'B'],\n",
       " ['OB', 'S'],\n",
       " ['CH', 'B'],\n",
       " ['FH', 'B'],\n",
       " ['CO', 'V'],\n",
       " ['HK', 'F'],\n",
       " ['VK', 'K'],\n",
       " ['CN', 'V'],\n",
       " ['SB', 'K'],\n",
       " ['PV', 'O'],\n",
       " ['PB', 'F'],\n",
       " ['VV', 'P'],\n",
       " ['CS', 'N'],\n",
       " ['CB', 'C'],\n",
       " ['BS', 'F'],\n",
       " ['HC', 'B'],\n",
       " ['SN', 'P'],\n",
       " ['VP', 'P'],\n",
       " ['OV', 'P'],\n",
       " ['BV', 'P'],\n",
       " ['FC', 'N'],\n",
       " ['KV', 'S'],\n",
       " ['CV', 'F'],\n",
       " ['BN', 'S'],\n",
       " ['BF', 'C'],\n",
       " ['OH', 'F'],\n",
       " ['VO', 'B'],\n",
       " ['FP', 'S'],\n",
       " ['FV', 'V'],\n",
       " ['VS', 'N'],\n",
       " ['HP', 'B']]"
      ]
     },
     "execution_count": 211,
     "metadata": {},
     "output_type": "execute_result"
    }
   ],
   "source": [
    "g"
   ]
  },
  {
   "cell_type": "code",
   "execution_count": 212,
   "id": "18815022",
   "metadata": {},
   "outputs": [],
   "source": [
    "ins_patterns = [list(x[0]) + [x[1]] for x in g]"
   ]
  },
  {
   "cell_type": "code",
   "execution_count": 213,
   "id": "2f995080",
   "metadata": {},
   "outputs": [],
   "source": [
    "template = list(\"NNCB\")\n",
    "template = list(\"OOBFPNOPBHKCCVHOBCSO\")"
   ]
  },
  {
   "cell_type": "code",
   "execution_count": 214,
   "id": "da9fe583",
   "metadata": {},
   "outputs": [
    {
     "data": {
      "text/plain": [
       "['O',\n",
       " 'O',\n",
       " 'B',\n",
       " 'F',\n",
       " 'P',\n",
       " 'N',\n",
       " 'O',\n",
       " 'P',\n",
       " 'B',\n",
       " 'H',\n",
       " 'K',\n",
       " 'C',\n",
       " 'C',\n",
       " 'V',\n",
       " 'H',\n",
       " 'O',\n",
       " 'B',\n",
       " 'C',\n",
       " 'S',\n",
       " 'O']"
      ]
     },
     "execution_count": 214,
     "metadata": {},
     "output_type": "execute_result"
    }
   ],
   "source": [
    "template"
   ]
  },
  {
   "cell_type": "code",
   "execution_count": 215,
   "id": "b4587c2a",
   "metadata": {},
   "outputs": [
    {
     "data": {
      "text/plain": [
       "[['N', 'S', 'H'],\n",
       " ['N', 'N', 'P'],\n",
       " ['F', 'F', 'O'],\n",
       " ['H', 'F', 'C'],\n",
       " ['K', 'N', 'V'],\n",
       " ['P', 'O', 'B'],\n",
       " ['P', 'S', 'B'],\n",
       " ['F', 'B', 'N'],\n",
       " ['O', 'N', 'F'],\n",
       " ['O', 'K', 'F'],\n",
       " ['O', 'O', 'K'],\n",
       " ['K', 'S', 'F'],\n",
       " ['F', 'N', 'F'],\n",
       " ['K', 'C', 'H'],\n",
       " ['N', 'C', 'N'],\n",
       " ['N', 'B', 'C'],\n",
       " ['K', 'H', 'S'],\n",
       " ['S', 'V', 'B'],\n",
       " ['B', 'C', 'S'],\n",
       " ['K', 'B', 'B'],\n",
       " ['S', 'C', 'S'],\n",
       " ['K', 'P', 'H'],\n",
       " ['F', 'S', 'K'],\n",
       " ['N', 'K', 'K'],\n",
       " ['O', 'C', 'H'],\n",
       " ['N', 'H', 'C'],\n",
       " ['P', 'H', 'F'],\n",
       " ['O', 'S', 'V'],\n",
       " ['B', 'B', 'C'],\n",
       " ['C', 'C', 'F'],\n",
       " ['C', 'F', 'H'],\n",
       " ['C', 'P', 'V'],\n",
       " ['V', 'B', 'N'],\n",
       " ['V', 'C', 'F'],\n",
       " ['P', 'K', 'V'],\n",
       " ['N', 'V', 'N'],\n",
       " ['F', 'O', 'S'],\n",
       " ['C', 'K', 'O'],\n",
       " ['B', 'H', 'K'],\n",
       " ['P', 'N', 'B'],\n",
       " ['P', 'P', 'S'],\n",
       " ['N', 'F', 'B'],\n",
       " ['S', 'F', 'K'],\n",
       " ['V', 'F', 'H'],\n",
       " ['H', 'S', 'F'],\n",
       " ['N', 'P', 'F'],\n",
       " ['S', 'H', 'V'],\n",
       " ['S', 'K', 'K'],\n",
       " ['P', 'C', 'V'],\n",
       " ['B', 'O', 'H'],\n",
       " ['H', 'N', 'P'],\n",
       " ['B', 'K', 'O'],\n",
       " ['B', 'P', 'S'],\n",
       " ['O', 'P', 'N'],\n",
       " ['S', 'P', 'N'],\n",
       " ['K', 'K', 'C'],\n",
       " ['H', 'B', 'H'],\n",
       " ['O', 'F', 'C'],\n",
       " ['V', 'H', 'C'],\n",
       " ['H', 'O', 'N'],\n",
       " ['F', 'K', 'V'],\n",
       " ['N', 'O', 'H'],\n",
       " ['K', 'F', 'S'],\n",
       " ['K', 'O', 'V'],\n",
       " ['P', 'F', 'K'],\n",
       " ['H', 'V', 'C'],\n",
       " ['S', 'O', 'F'],\n",
       " ['S', 'S', 'F'],\n",
       " ['V', 'N', 'K'],\n",
       " ['H', 'H', 'B'],\n",
       " ['O', 'B', 'S'],\n",
       " ['C', 'H', 'B'],\n",
       " ['F', 'H', 'B'],\n",
       " ['C', 'O', 'V'],\n",
       " ['H', 'K', 'F'],\n",
       " ['V', 'K', 'K'],\n",
       " ['C', 'N', 'V'],\n",
       " ['S', 'B', 'K'],\n",
       " ['P', 'V', 'O'],\n",
       " ['P', 'B', 'F'],\n",
       " ['V', 'V', 'P'],\n",
       " ['C', 'S', 'N'],\n",
       " ['C', 'B', 'C'],\n",
       " ['B', 'S', 'F'],\n",
       " ['H', 'C', 'B'],\n",
       " ['S', 'N', 'P'],\n",
       " ['V', 'P', 'P'],\n",
       " ['O', 'V', 'P'],\n",
       " ['B', 'V', 'P'],\n",
       " ['F', 'C', 'N'],\n",
       " ['K', 'V', 'S'],\n",
       " ['C', 'V', 'F'],\n",
       " ['B', 'N', 'S'],\n",
       " ['B', 'F', 'C'],\n",
       " ['O', 'H', 'F'],\n",
       " ['V', 'O', 'B'],\n",
       " ['F', 'P', 'S'],\n",
       " ['F', 'V', 'V'],\n",
       " ['V', 'S', 'N'],\n",
       " ['H', 'P', 'B']]"
      ]
     },
     "execution_count": 215,
     "metadata": {},
     "output_type": "execute_result"
    }
   ],
   "source": [
    "ins_patterns"
   ]
  },
  {
   "cell_type": "code",
   "execution_count": 216,
   "id": "ec70f815",
   "metadata": {},
   "outputs": [],
   "source": [
    "def get_dict(patterns):\n",
    "    x = {}\n",
    "    for i in patterns:\n",
    "        x[\"\".join(i[:2])] = i[2]\n",
    "    return x\n",
    "\n",
    "insert_schema = get_dict(ins_patterns)"
   ]
  },
  {
   "cell_type": "code",
   "execution_count": 187,
   "id": "7ec9c2a1",
   "metadata": {},
   "outputs": [
    {
     "data": {
      "text/plain": [
       "{'NS': 'H',\n",
       " 'NN': 'P',\n",
       " 'FF': 'O',\n",
       " 'HF': 'C',\n",
       " 'KN': 'V',\n",
       " 'PO': 'B',\n",
       " 'PS': 'B',\n",
       " 'FB': 'N',\n",
       " 'ON': 'F',\n",
       " 'OK': 'F',\n",
       " 'OO': 'K',\n",
       " 'KS': 'F',\n",
       " 'FN': 'F',\n",
       " 'KC': 'H',\n",
       " 'NC': 'N',\n",
       " 'NB': 'C',\n",
       " 'KH': 'S',\n",
       " 'SV': 'B',\n",
       " 'BC': 'S',\n",
       " 'KB': 'B',\n",
       " 'SC': 'S',\n",
       " 'KP': 'H',\n",
       " 'FS': 'K',\n",
       " 'NK': 'K',\n",
       " 'OC': 'H',\n",
       " 'NH': 'C',\n",
       " 'PH': 'F',\n",
       " 'OS': 'V',\n",
       " 'BB': 'C',\n",
       " 'CC': 'F',\n",
       " 'CF': 'H',\n",
       " 'CP': 'V',\n",
       " 'VB': 'N',\n",
       " 'VC': 'F',\n",
       " 'PK': 'V',\n",
       " 'NV': 'N',\n",
       " 'FO': 'S',\n",
       " 'CK': 'O',\n",
       " 'BH': 'K',\n",
       " 'PN': 'B',\n",
       " 'PP': 'S',\n",
       " 'NF': 'B',\n",
       " 'SF': 'K',\n",
       " 'VF': 'H',\n",
       " 'HS': 'F',\n",
       " 'NP': 'F',\n",
       " 'SH': 'V',\n",
       " 'SK': 'K',\n",
       " 'PC': 'V',\n",
       " 'BO': 'H',\n",
       " 'HN': 'P',\n",
       " 'BK': 'O',\n",
       " 'BP': 'S',\n",
       " 'OP': 'N',\n",
       " 'SP': 'N',\n",
       " 'KK': 'C',\n",
       " 'HB': 'H',\n",
       " 'OF': 'C',\n",
       " 'VH': 'C',\n",
       " 'HO': 'N',\n",
       " 'FK': 'V',\n",
       " 'NO': 'H',\n",
       " 'KF': 'S',\n",
       " 'KO': 'V',\n",
       " 'PF': 'K',\n",
       " 'HV': 'C',\n",
       " 'SO': 'F',\n",
       " 'SS': 'F',\n",
       " 'VN': 'K',\n",
       " 'HH': 'B',\n",
       " 'OB': 'S',\n",
       " 'CH': 'B',\n",
       " 'FH': 'B',\n",
       " 'CO': 'V',\n",
       " 'HK': 'F',\n",
       " 'VK': 'K',\n",
       " 'CN': 'V',\n",
       " 'SB': 'K',\n",
       " 'PV': 'O',\n",
       " 'PB': 'F',\n",
       " 'VV': 'P',\n",
       " 'CS': 'N',\n",
       " 'CB': 'C',\n",
       " 'BS': 'F',\n",
       " 'HC': 'B',\n",
       " 'SN': 'P',\n",
       " 'VP': 'P',\n",
       " 'OV': 'P',\n",
       " 'BV': 'P',\n",
       " 'FC': 'N',\n",
       " 'KV': 'S',\n",
       " 'CV': 'F',\n",
       " 'BN': 'S',\n",
       " 'BF': 'C',\n",
       " 'OH': 'F',\n",
       " 'VO': 'B',\n",
       " 'FP': 'S',\n",
       " 'FV': 'V',\n",
       " 'VS': 'N',\n",
       " 'HP': 'B'}"
      ]
     },
     "execution_count": 187,
     "metadata": {},
     "output_type": "execute_result"
    }
   ],
   "source": [
    "insert_schema"
   ]
  },
  {
   "cell_type": "code",
   "execution_count": 217,
   "id": "885db12c",
   "metadata": {},
   "outputs": [],
   "source": [
    "def get_letter(pair):\n",
    "    try:\n",
    "        val = insert_schema[\"\".join(pair)]\n",
    "    except IndexError:\n",
    "        val = None\n",
    "    return val"
   ]
  },
  {
   "cell_type": "code",
   "execution_count": 218,
   "id": "fe9d0f49",
   "metadata": {},
   "outputs": [
    {
     "data": {
      "text/plain": [
       "{'OO': 1,\n",
       " 'OB': 2,\n",
       " 'BF': 1,\n",
       " 'FP': 1,\n",
       " 'PN': 1,\n",
       " 'NO': 1,\n",
       " 'OP': 1,\n",
       " 'PB': 1,\n",
       " 'BH': 1,\n",
       " 'HK': 1,\n",
       " 'KC': 1,\n",
       " 'CC': 1,\n",
       " 'CV': 1,\n",
       " 'VH': 1,\n",
       " 'HO': 1,\n",
       " 'BC': 1,\n",
       " 'CS': 1,\n",
       " 'SO': 1}"
      ]
     },
     "execution_count": 218,
     "metadata": {},
     "output_type": "execute_result"
    }
   ],
   "source": [
    "template\n",
    "sets = {}\n",
    "for i in range(len(template) - 1):\n",
    "    pair = \"\".join(template[i:i+2])\n",
    "    if pair not in sets.keys():\n",
    "        sets[pair] = 1\n",
    "    else:\n",
    "        sets[pair] += 1\n",
    "    \n",
    "sets"
   ]
  },
  {
   "cell_type": "code",
   "execution_count": 190,
   "id": "f267ef6e",
   "metadata": {},
   "outputs": [],
   "source": [
    "def add_to_set(sets, pair, n=1):\n",
    "    if pair not in sets.keys():\n",
    "        sets[pair] = n\n",
    "    else:\n",
    "        sets[pair] += n\n",
    "    return sets"
   ]
  },
  {
   "cell_type": "code",
   "execution_count": 191,
   "id": "d292a257",
   "metadata": {},
   "outputs": [],
   "source": [
    "def get_new_pairs(pair: str):\n",
    "    letter_to_insert = insert_schema[pair]\n",
    "    new_pairs = [pair[:1] + letter_to_insert, letter_to_insert + pair[1:]]\n",
    "    return new_pairs"
   ]
  },
  {
   "cell_type": "code",
   "execution_count": 192,
   "id": "e28143d5",
   "metadata": {},
   "outputs": [],
   "source": [
    "steps = 40\n",
    "n = 0\n",
    "while n < steps :\n",
    "\n",
    "    new_set = {}\n",
    "    \n",
    "    for pair in sets.keys():\n",
    "        new_pairs = get_new_pairs(pair)\n",
    "        \n",
    "        m = sets[pair]\n",
    "        \n",
    "        for new_pair in new_pairs:\n",
    "            new_set = add_to_set(new_set, new_pair, n=m)\n",
    "    \n",
    "    sets = new_set\n",
    "        \n",
    "    n += 1\n",
    "        \n"
   ]
  },
  {
   "cell_type": "code",
   "execution_count": 198,
   "id": "e71961e0",
   "metadata": {},
   "outputs": [],
   "source": [
    "def count_occurences(sets):\n",
    "    counter = dict.fromkeys(set(list(\"\".join(new_set.keys()))), 0)\n",
    "    for key in sets.keys():\n",
    "        counter[key[0]] += sets[key]\n",
    "        counter[key[1]] += sets[key]\n",
    "    \n",
    "#     counter = {key: int(value / 2 if value % 2 == 0 else (value + 1) / 2) for key, value in counter.items()}\n",
    "    return counter"
   ]
  },
  {
   "cell_type": "code",
   "execution_count": null,
   "id": "5b5caab6",
   "metadata": {},
   "outputs": [],
   "source": []
  },
  {
   "cell_type": "code",
   "execution_count": 203,
   "id": "56ef58b6",
   "metadata": {},
   "outputs": [],
   "source": [
    "x = count_occurences(new_set)"
   ]
  },
  {
   "cell_type": "code",
   "execution_count": 204,
   "id": "4e276362",
   "metadata": {},
   "outputs": [
    {
     "data": {
      "text/plain": [
       "{'P': 2629610848522,\n",
       " 'H': 4433917978118,\n",
       " 'V': 3372107889344,\n",
       " 'C': 4586261796800,\n",
       " 'K': 6807255388934,\n",
       " 'F': 6396651489102,\n",
       " 'B': 4126248641534,\n",
       " 'N': 2395076226226,\n",
       " 'O': 2086657597378,\n",
       " 'S': 4947653999530}"
      ]
     },
     "execution_count": 204,
     "metadata": {},
     "output_type": "execute_result"
    }
   ],
   "source": [
    "x"
   ]
  },
  {
   "cell_type": "code",
   "execution_count": 221,
   "id": "77ee93ef",
   "metadata": {},
   "outputs": [
    {
     "data": {
      "text/plain": [
       "2360298895777.0"
      ]
     },
     "execution_count": 221,
     "metadata": {},
     "output_type": "execute_result"
    }
   ],
   "source": [
    "6807255388934 / 2 - (2086657597378 + 2) / 2"
   ]
  },
  {
   "cell_type": "code",
   "execution_count": 200,
   "id": "2e6c48cf",
   "metadata": {},
   "outputs": [],
   "source": [
    "max_ = max(x, key=x.get)\n",
    "max_val = int(x[max_])"
   ]
  },
  {
   "cell_type": "code",
   "execution_count": 201,
   "id": "ea172c8b",
   "metadata": {},
   "outputs": [],
   "source": [
    "min_ = min(x, key=x.get)\n",
    "min_val = int(x[min_])"
   ]
  },
  {
   "cell_type": "code",
   "execution_count": 202,
   "id": "c2eebe74",
   "metadata": {},
   "outputs": [
    {
     "data": {
      "text/plain": [
       "4720597791556"
      ]
     },
     "execution_count": 202,
     "metadata": {},
     "output_type": "execute_result"
    }
   ],
   "source": [
    "int(max_val) - int(min_val)"
   ]
  },
  {
   "cell_type": "code",
   "execution_count": null,
   "id": "687e9514",
   "metadata": {},
   "outputs": [],
   "source": [
    "# guess 2360298895778"
   ]
  },
  {
   "cell_type": "code",
   "execution_count": 146,
   "id": "fb42b459",
   "metadata": {},
   "outputs": [],
   "source": [
    "def insert_in(inp, letter, index):\n",
    "    inp.insert(index, letter)"
   ]
  },
  {
   "cell_type": "code",
   "execution_count": 147,
   "id": "0cb498ac",
   "metadata": {},
   "outputs": [],
   "source": [
    "def insert_into(to_insert, template):\n",
    "    n = 0\n",
    "    for i in to_insert:\n",
    "        template.insert(i[1] + n, i[0])\n",
    "        n += 1\n",
    "    return template"
   ]
  },
  {
   "cell_type": "code",
   "execution_count": 148,
   "id": "8f921c1e",
   "metadata": {},
   "outputs": [],
   "source": [
    "def get_insert(ins_patterns, template):\n",
    "    # check which ones to insert\n",
    "    to_insert = []\n",
    "    for i in range(len(template) - 1):\n",
    "        pair_to_check = template[i:i+2]\n",
    "        \n",
    "        letter_to_insert = get_letter(pair_to_check)\n",
    "        \n",
    "        if letter_to_insert is not None:\n",
    "            to_insert.append([letter_to_insert, i + 1,])\n",
    "\n",
    "    # sort them on index\n",
    "    to_insert.sort(key=lambda x: x[1])\n",
    "    \n",
    "    return to_insert"
   ]
  },
  {
   "cell_type": "code",
   "execution_count": 149,
   "id": "aa040570",
   "metadata": {},
   "outputs": [
    {
     "data": {
      "text/plain": [
       "[['K', 1],\n",
       " ['S', 2],\n",
       " ['C', 3],\n",
       " ['S', 4],\n",
       " ['B', 5],\n",
       " ['H', 6],\n",
       " ['N', 7],\n",
       " ['F', 8],\n",
       " ['K', 9],\n",
       " ['F', 10],\n",
       " ['H', 11],\n",
       " ['F', 12],\n",
       " ['F', 13],\n",
       " ['C', 14],\n",
       " ['N', 15],\n",
       " ['S', 16],\n",
       " ['S', 17],\n",
       " ['N', 18],\n",
       " ['F', 19]]"
      ]
     },
     "execution_count": 149,
     "metadata": {},
     "output_type": "execute_result"
    }
   ],
   "source": [
    "get_insert(ins_patterns, template)"
   ]
  },
  {
   "cell_type": "code",
   "execution_count": 150,
   "id": "a43211ae",
   "metadata": {},
   "outputs": [
    {
     "ename": "KeyboardInterrupt",
     "evalue": "",
     "output_type": "error",
     "traceback": [
      "\u001b[0;31m---------------------------------------------------------------------------\u001b[0m",
      "\u001b[0;31mKeyboardInterrupt\u001b[0m                         Traceback (most recent call last)",
      "\u001b[0;32m<ipython-input-150-a7073efb5cac>\u001b[0m in \u001b[0;36m<module>\u001b[0;34m\u001b[0m\n\u001b[1;32m      2\u001b[0m \u001b[0;32mfor\u001b[0m \u001b[0m_\u001b[0m \u001b[0;32min\u001b[0m \u001b[0mrange\u001b[0m\u001b[0;34m(\u001b[0m\u001b[0msteps\u001b[0m\u001b[0;34m)\u001b[0m\u001b[0;34m:\u001b[0m\u001b[0;34m\u001b[0m\u001b[0;34m\u001b[0m\u001b[0m\n\u001b[1;32m      3\u001b[0m     \u001b[0minserts\u001b[0m \u001b[0;34m=\u001b[0m \u001b[0mget_insert\u001b[0m\u001b[0;34m(\u001b[0m\u001b[0mins_patterns\u001b[0m\u001b[0;34m,\u001b[0m \u001b[0mtemplate\u001b[0m\u001b[0;34m)\u001b[0m\u001b[0;34m\u001b[0m\u001b[0;34m\u001b[0m\u001b[0m\n\u001b[0;32m----> 4\u001b[0;31m     \u001b[0mtemplate\u001b[0m \u001b[0;34m=\u001b[0m \u001b[0minsert_into\u001b[0m\u001b[0;34m(\u001b[0m\u001b[0minserts\u001b[0m\u001b[0;34m,\u001b[0m \u001b[0mtemplate\u001b[0m\u001b[0;34m)\u001b[0m\u001b[0;34m\u001b[0m\u001b[0;34m\u001b[0m\u001b[0m\n\u001b[0m",
      "\u001b[0;32m<ipython-input-147-40e29d6c2e66>\u001b[0m in \u001b[0;36minsert_into\u001b[0;34m(to_insert, template)\u001b[0m\n\u001b[1;32m      2\u001b[0m     \u001b[0mn\u001b[0m \u001b[0;34m=\u001b[0m \u001b[0;36m0\u001b[0m\u001b[0;34m\u001b[0m\u001b[0;34m\u001b[0m\u001b[0m\n\u001b[1;32m      3\u001b[0m     \u001b[0;32mfor\u001b[0m \u001b[0mi\u001b[0m \u001b[0;32min\u001b[0m \u001b[0mto_insert\u001b[0m\u001b[0;34m:\u001b[0m\u001b[0;34m\u001b[0m\u001b[0;34m\u001b[0m\u001b[0m\n\u001b[0;32m----> 4\u001b[0;31m         \u001b[0mtemplate\u001b[0m\u001b[0;34m.\u001b[0m\u001b[0minsert\u001b[0m\u001b[0;34m(\u001b[0m\u001b[0mi\u001b[0m\u001b[0;34m[\u001b[0m\u001b[0;36m1\u001b[0m\u001b[0;34m]\u001b[0m \u001b[0;34m+\u001b[0m \u001b[0mn\u001b[0m\u001b[0;34m,\u001b[0m \u001b[0mi\u001b[0m\u001b[0;34m[\u001b[0m\u001b[0;36m0\u001b[0m\u001b[0;34m]\u001b[0m\u001b[0;34m)\u001b[0m\u001b[0;34m\u001b[0m\u001b[0;34m\u001b[0m\u001b[0m\n\u001b[0m\u001b[1;32m      5\u001b[0m         \u001b[0mn\u001b[0m \u001b[0;34m+=\u001b[0m \u001b[0;36m1\u001b[0m\u001b[0;34m\u001b[0m\u001b[0;34m\u001b[0m\u001b[0m\n\u001b[1;32m      6\u001b[0m     \u001b[0;32mreturn\u001b[0m \u001b[0mtemplate\u001b[0m\u001b[0;34m\u001b[0m\u001b[0;34m\u001b[0m\u001b[0m\n",
      "\u001b[0;31mKeyboardInterrupt\u001b[0m: "
     ]
    }
   ],
   "source": [
    "steps = 40\n",
    "for _ in range(steps):\n",
    "    inserts = get_insert(ins_patterns, template)\n",
    "    template = insert_into(inserts, template)\n"
   ]
  },
  {
   "cell_type": "code",
   "execution_count": 132,
   "id": "026c67e0",
   "metadata": {},
   "outputs": [],
   "source": [
    "def count_occurences(template):\n",
    "    count = dict.fromkeys(template, 0)\n",
    "    for i in template:\n",
    "        count[i] += 1\n",
    "    return count"
   ]
  },
  {
   "cell_type": "code",
   "execution_count": 133,
   "id": "2d7fc2f8",
   "metadata": {},
   "outputs": [],
   "source": [
    "x = count_occurences(template)"
   ]
  },
  {
   "cell_type": "code",
   "execution_count": 134,
   "id": "6c47c203",
   "metadata": {},
   "outputs": [
    {
     "data": {
      "text/plain": [
       "{'O': 921,\n",
       " 'H': 1966,\n",
       " 'C': 2285,\n",
       " 'F': 3115,\n",
       " 'N': 1215,\n",
       " 'B': 1900,\n",
       " 'K': 3077,\n",
       " 'S': 2339,\n",
       " 'P': 1154,\n",
       " 'V': 1485}"
      ]
     },
     "execution_count": 134,
     "metadata": {},
     "output_type": "execute_result"
    }
   ],
   "source": [
    "x"
   ]
  },
  {
   "cell_type": "code",
   "execution_count": 135,
   "id": "708c24fb",
   "metadata": {},
   "outputs": [
    {
     "name": "stdout",
     "output_type": "stream",
     "text": [
      "F 3115\n"
     ]
    }
   ],
   "source": [
    "max_ = max(x, key=x.get)\n",
    "print(max_, x[max_])"
   ]
  },
  {
   "cell_type": "code",
   "execution_count": 136,
   "id": "6adbd480",
   "metadata": {},
   "outputs": [
    {
     "name": "stdout",
     "output_type": "stream",
     "text": [
      "O 921\n"
     ]
    }
   ],
   "source": [
    "min_ = min(x, key=x.get)\n",
    "print(min_, x[min_])"
   ]
  },
  {
   "cell_type": "code",
   "execution_count": 137,
   "id": "ffd6ffef",
   "metadata": {},
   "outputs": [
    {
     "data": {
      "text/plain": [
       "2194"
      ]
     },
     "execution_count": 137,
     "metadata": {},
     "output_type": "execute_result"
    }
   ],
   "source": [
    "int(x[max_]) - int(x[min_])"
   ]
  },
  {
   "cell_type": "code",
   "execution_count": 163,
   "id": "2de8e9ec",
   "metadata": {},
   "outputs": [],
   "source": [
    "# part 2\n",
    "values = {}\n",
    "\n",
    "for i in range(len(template) - 1):\n",
    "    pair = \"\".join(template[i:i+2])\n",
    "    if pair in values.keys():\n",
    "        values[pair] += 1\n",
    "    else:\n",
    "        values[pair] = 1\n",
    "    "
   ]
  },
  {
   "cell_type": "code",
   "execution_count": 164,
   "id": "3b97c6c2",
   "metadata": {},
   "outputs": [
    {
     "data": {
      "text/plain": [
       "{'NN': 1, 'NC': 1, 'CB': 1}"
      ]
     },
     "execution_count": 164,
     "metadata": {},
     "output_type": "execute_result"
    }
   ],
   "source": [
    "values"
   ]
  },
  {
   "cell_type": "code",
   "execution_count": 173,
   "id": "a2cf5d22",
   "metadata": {},
   "outputs": [
    {
     "data": {
      "text/plain": [
       "{'CH': 'B',\n",
       " 'HH': 'N',\n",
       " 'CB': 'H',\n",
       " 'NH': 'C',\n",
       " 'HB': 'C',\n",
       " 'HC': 'B',\n",
       " 'HN': 'C',\n",
       " 'NN': 'C',\n",
       " 'BH': 'H',\n",
       " 'NC': 'B',\n",
       " 'NB': 'B',\n",
       " 'BN': 'B',\n",
       " 'BB': 'N',\n",
       " 'BC': 'B',\n",
       " 'CC': 'N',\n",
       " 'CN': 'C'}"
      ]
     },
     "execution_count": 173,
     "metadata": {},
     "output_type": "execute_result"
    }
   ],
   "source": [
    "dict_input"
   ]
  },
  {
   "cell_type": "code",
   "execution_count": null,
   "id": "e97d0ee5",
   "metadata": {},
   "outputs": [],
   "source": []
  }
 ],
 "metadata": {
  "kernelspec": {
   "display_name": "Python 3",
   "language": "python",
   "name": "python3"
  },
  "language_info": {
   "codemirror_mode": {
    "name": "ipython",
    "version": 3
   },
   "file_extension": ".py",
   "mimetype": "text/x-python",
   "name": "python",
   "nbconvert_exporter": "python",
   "pygments_lexer": "ipython3",
   "version": "3.8.8"
  }
 },
 "nbformat": 4,
 "nbformat_minor": 5
}
