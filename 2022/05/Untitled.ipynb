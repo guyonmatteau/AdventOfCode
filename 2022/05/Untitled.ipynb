{
 "cells": [
  {
   "cell_type": "code",
   "execution_count": null,
   "id": "c9482e25",
   "metadata": {},
   "outputs": [],
   "source": [
    "# crate[0] is the top crate\n",
    "setup = ['QFLSR', \n",
    "         'TPGQZN', \n",
    "         'BQMS', \n",
    "         'QBCHJZGT', \n",
    "         'SFNBMHP', \n",
    "         'GVLSNQCP', \n",
    "         'FCW', \n",
    "         'MPVWZGHQ', \n",
    "         'RNCLDZG']"
   ]
  },
  {
   "cell_type": "code",
   "execution_count": null,
   "id": "eb0158c2",
   "metadata": {},
   "outputs": [],
   "source": [
    "f = open('input').read()[:-1].split('\\n')"
   ]
  },
  {
   "cell_type": "code",
   "execution_count": null,
   "id": "9691dcf6",
   "metadata": {},
   "outputs": [],
   "source": [
    "moves = [m.replace('move ', '').replace(' from', '').replace(' to', '').split(' ') for m in f]"
   ]
  },
  {
   "cell_type": "code",
   "execution_count": null,
   "id": "f9fc65b4",
   "metadata": {},
   "outputs": [],
   "source": [
    "def move_crates(from_, to, setup, n=1):\n",
    "    \"\"\"Move n crates. In part 1, n=1.\"\"\"\n",
    "    ncrates = setup\n",
    "    crates_to_move = ncrates[from_][:n]\n",
    "    ncrates[from_] = ncrates[from_][n:]\n",
    "    ncrates[to] = crates_to_move + ncrates[to]\n",
    "    return ncrates"
   ]
  },
  {
   "cell_type": "code",
   "execution_count": null,
   "id": "ab9660ad",
   "metadata": {},
   "outputs": [],
   "source": [
    "for move in moves:\n",
    "    crates, from_, to = int(move[0]), int(move[1]) - 1, int(move[2]) - 1\n",
    "    for _ in range(crates):\n",
    "        setup = move_crate(from_, to, setup)"
   ]
  },
  {
   "cell_type": "code",
   "execution_count": null,
   "id": "1dde26e8",
   "metadata": {},
   "outputs": [],
   "source": [
    "setup"
   ]
  },
  {
   "cell_type": "code",
   "execution_count": null,
   "id": "68c278e7",
   "metadata": {},
   "outputs": [],
   "source": [
    "# part two\n",
    "for move in moves:\n",
    "    n, from_, to = int(move[0]), int(move[1]) - 1, int(move[2]) - 1\n",
    "    setup = move_crates(from_, to, setup, n)\n"
   ]
  },
  {
   "cell_type": "code",
   "execution_count": null,
   "id": "372cde0c",
   "metadata": {},
   "outputs": [],
   "source": [
    "setup"
   ]
  }
 ],
 "metadata": {
  "kernelspec": {
   "display_name": "Python 3",
   "language": "python",
   "name": "python3"
  },
  "language_info": {
   "codemirror_mode": {
    "name": "ipython",
    "version": 3
   },
   "file_extension": ".py",
   "mimetype": "text/x-python",
   "name": "python",
   "nbconvert_exporter": "python",
   "pygments_lexer": "ipython3",
   "version": "3.8.8"
  }
 },
 "nbformat": 4,
 "nbformat_minor": 5
}
