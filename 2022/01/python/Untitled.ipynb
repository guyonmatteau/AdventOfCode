{
 "cells": [
  {
   "cell_type": "code",
   "execution_count": null,
   "id": "1d49a4d6",
   "metadata": {},
   "outputs": [],
   "source": [
    "raw_inp = open('input').read()[:-1]\n",
    "inp = [str_.split('\\n') for str_ in raw_inp.split('\\n\\n')]"
   ]
  },
  {
   "cell_type": "code",
   "execution_count": null,
   "id": "bfce37e5",
   "metadata": {},
   "outputs": [],
   "source": [
    "inp_int = [[int(i) for i in x] for x in inp]"
   ]
  },
  {
   "cell_type": "code",
   "execution_count": null,
   "id": "c9c9e284",
   "metadata": {},
   "outputs": [],
   "source": [
    "max_ = 0\n",
    "for e in inp_int:\n",
    "    max_ = max(max_, sum(e)) "
   ]
  },
  {
   "cell_type": "code",
   "execution_count": null,
   "id": "b085a726",
   "metadata": {},
   "outputs": [],
   "source": [
    "max_"
   ]
  },
  {
   "cell_type": "code",
   "execution_count": null,
   "id": "e1983203",
   "metadata": {},
   "outputs": [],
   "source": [
    "top = [0, 0, 0]\n",
    "\n",
    "for e in inp_int:\n",
    "    min_ = min(top)\n",
    "    \n",
    "    if min_ < sum(e):\n",
    "        top[top.index(min_)] = sum(e)\n",
    "    \n",
    "    "
   ]
  },
  {
   "cell_type": "code",
   "execution_count": null,
   "id": "fd3c2a21",
   "metadata": {},
   "outputs": [],
   "source": [
    "sum(top)"
   ]
  },
  {
   "cell_type": "code",
   "execution_count": null,
   "id": "5c055e62",
   "metadata": {},
   "outputs": [],
   "source": []
  }
 ],
 "metadata": {
  "kernelspec": {
   "display_name": "Python 3",
   "language": "python",
   "name": "python3"
  },
  "language_info": {
   "codemirror_mode": {
    "name": "ipython",
    "version": 3
   },
   "file_extension": ".py",
   "mimetype": "text/x-python",
   "name": "python",
   "nbconvert_exporter": "python",
   "pygments_lexer": "ipython3",
   "version": "3.8.8"
  }
 },
 "nbformat": 4,
 "nbformat_minor": 5
}
