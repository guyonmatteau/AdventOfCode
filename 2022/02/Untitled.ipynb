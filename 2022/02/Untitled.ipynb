{
 "cells": [
  {
   "cell_type": "code",
   "execution_count": null,
   "id": "deed588f",
   "metadata": {},
   "outputs": [],
   "source": [
    "ir = open('input').read()[:-1].split('\\n')"
   ]
  },
  {
   "cell_type": "code",
   "execution_count": null,
   "id": "34447579",
   "metadata": {},
   "outputs": [],
   "source": [
    "c = {'A X': 4, 'A Y': 8, 'A Z': 3, \n",
    "     'B X': 1, 'B Y': 5, 'B Z': 9,\n",
    "     'C X': 7, 'C Y': 2, 'C Z': 6}"
   ]
  },
  {
   "cell_type": "code",
   "execution_count": null,
   "id": "bea335f7",
   "metadata": {},
   "outputs": [],
   "source": [
    "score = 0\n",
    "for i in ir:\n",
    "    score += c[i]"
   ]
  },
  {
   "cell_type": "code",
   "execution_count": null,
   "id": "0c22199b",
   "metadata": {},
   "outputs": [],
   "source": [
    "score"
   ]
  },
  {
   "cell_type": "code",
   "execution_count": null,
   "id": "b25cc52b",
   "metadata": {},
   "outputs": [],
   "source": [
    "c_ = {'A X': 3, 'A Y': 4, 'A Z': 8, \n",
    "      'B X': 1, 'B Y': 5, 'B Z': 9,\n",
    "      'C X': 2, 'C Y': 6, 'C Z': 7}"
   ]
  },
  {
   "cell_type": "code",
   "execution_count": null,
   "id": "92cf4869",
   "metadata": {},
   "outputs": [],
   "source": [
    "score_ = 0\n",
    "for i in ir:\n",
    "    score_ += c_[i]"
   ]
  },
  {
   "cell_type": "code",
   "execution_count": null,
   "id": "a0e5d1fb",
   "metadata": {},
   "outputs": [],
   "source": [
    "score_"
   ]
  },
  {
   "cell_type": "code",
   "execution_count": null,
   "id": "04d5ab1c",
   "metadata": {},
   "outputs": [],
   "source": []
  }
 ],
 "metadata": {
  "kernelspec": {
   "display_name": "Python 3",
   "language": "python",
   "name": "python3"
  },
  "language_info": {
   "codemirror_mode": {
    "name": "ipython",
    "version": 3
   },
   "file_extension": ".py",
   "mimetype": "text/x-python",
   "name": "python",
   "nbconvert_exporter": "python",
   "pygments_lexer": "ipython3",
   "version": "3.8.8"
  }
 },
 "nbformat": 4,
 "nbformat_minor": 5
}
