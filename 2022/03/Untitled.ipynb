{
 "cells": [
  {
   "cell_type": "code",
   "execution_count": null,
   "id": "dbb6bc0b",
   "metadata": {},
   "outputs": [],
   "source": [
    "f = open('input').read()[:-1].split('\\n')"
   ]
  },
  {
   "cell_type": "code",
   "execution_count": null,
   "id": "e5ca33eb",
   "metadata": {},
   "outputs": [],
   "source": [
    "# part 1"
   ]
  },
  {
   "cell_type": "code",
   "execution_count": null,
   "id": "e53d5a88",
   "metadata": {},
   "outputs": [],
   "source": [
    "comp = [[bag[:int(len(bag)/2)], bag[int(len(bag)/2):]] for bag in f]"
   ]
  },
  {
   "cell_type": "code",
   "execution_count": null,
   "id": "3dcf687e",
   "metadata": {},
   "outputs": [],
   "source": [
    "letters = []\n",
    "for bag in comp:\n",
    "    for item in bag[0]:\n",
    "        if item in bag[1]:\n",
    "            letters.append(item)\n",
    "            break\n",
    "            "
   ]
  },
  {
   "cell_type": "code",
   "execution_count": null,
   "id": "ec596391",
   "metadata": {},
   "outputs": [],
   "source": [
    "def l_to_n(n):\n",
    "    val = ord(n)\n",
    "    if val < 97:\n",
    "        return val - 38\n",
    "    return val - 96\n",
    "    "
   ]
  },
  {
   "cell_type": "code",
   "execution_count": null,
   "id": "e680654f",
   "metadata": {},
   "outputs": [],
   "source": [
    "sum(l_to_n(l) for l in letters)"
   ]
  },
  {
   "cell_type": "code",
   "execution_count": null,
   "id": "f4408428",
   "metadata": {},
   "outputs": [],
   "source": [
    "# part 2"
   ]
  },
  {
   "cell_type": "code",
   "execution_count": null,
   "id": "08a422f4",
   "metadata": {},
   "outputs": [],
   "source": [
    "badges = []\n",
    "for i in range(0, len(f), 3):\n",
    "    for l in f[i]:\n",
    "        if l in f[i+1] and l in f[i+2]:\n",
    "            badges.append(l)\n",
    "            break"
   ]
  },
  {
   "cell_type": "code",
   "execution_count": null,
   "id": "f7b82856",
   "metadata": {},
   "outputs": [],
   "source": [
    "sum(l_to_n(l) for l in badges)"
   ]
  }
 ],
 "metadata": {
  "kernelspec": {
   "display_name": "Python 3",
   "language": "python",
   "name": "python3"
  },
  "language_info": {
   "codemirror_mode": {
    "name": "ipython",
    "version": 3
   },
   "file_extension": ".py",
   "mimetype": "text/x-python",
   "name": "python",
   "nbconvert_exporter": "python",
   "pygments_lexer": "ipython3",
   "version": "3.8.8"
  }
 },
 "nbformat": 4,
 "nbformat_minor": 5
}
