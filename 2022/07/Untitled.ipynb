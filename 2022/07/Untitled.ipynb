{
 "cells": [
  {
   "cell_type": "code",
   "execution_count": null,
   "id": "f89e4d43",
   "metadata": {},
   "outputs": [],
   "source": [
    "f = open('input').read()[:-1].split('\\n')"
   ]
  },
  {
   "cell_type": "code",
   "execution_count": null,
   "id": "c497e092",
   "metadata": {},
   "outputs": [],
   "source": [
    "f"
   ]
  },
  {
   "cell_type": "code",
   "execution_count": null,
   "id": "2609cd69",
   "metadata": {},
   "outputs": [],
   "source": [
    "dirs = {}\n",
    "cwd = []\n",
    "\n",
    "for c in f:\n",
    "\n",
    "    if c.startswith('$ cd') and c != '$ cd ..':\n",
    "        cwd.append(c.split(' ')[-1])\n",
    "    \n",
    "    elif c.startswith(\"$ ls\"):\n",
    "        dirs['/' + '/'.join(cwd[1:])] = 0\n",
    "        \n",
    "    elif c.startswith('$ cd ..'):\n",
    "        len_ = len(cwd) - 1\n",
    "        cwd = cwd[:len_]\n",
    "    \n",
    "    elif c.split(' ')[0] == 'dir':\n",
    "        pass\n",
    "        \n",
    "    else:\n",
    "        size = int(c.split(' ')[0])\n",
    "        for i in range(1, len(cwd) + 1):\n",
    "            f_ = '/' + '/'.join(cwd[1:i])\n",
    "            dirs[f_] += size"
   ]
  },
  {
   "cell_type": "code",
   "execution_count": null,
   "id": "ffd4c404",
   "metadata": {},
   "outputs": [],
   "source": [
    "sum(x for x in dirs.values() if x < 100000)"
   ]
  },
  {
   "cell_type": "code",
   "execution_count": null,
   "id": "8b87267c",
   "metadata": {},
   "outputs": [],
   "source": [
    "# part 2"
   ]
  },
  {
   "cell_type": "code",
   "execution_count": null,
   "id": "4ef4a7db",
   "metadata": {},
   "outputs": [],
   "source": [
    "# required\n",
    "req = 30000000 - (70000000 - 44359867)"
   ]
  },
  {
   "cell_type": "code",
   "execution_count": null,
   "id": "a573e50b",
   "metadata": {},
   "outputs": [],
   "source": [
    "min(x for x in sorted_dir.values() if x > req)\n"
   ]
  }
 ],
 "metadata": {
  "kernelspec": {
   "display_name": "Python 3",
   "language": "python",
   "name": "python3"
  },
  "language_info": {
   "codemirror_mode": {
    "name": "ipython",
    "version": 3
   },
   "file_extension": ".py",
   "mimetype": "text/x-python",
   "name": "python",
   "nbconvert_exporter": "python",
   "pygments_lexer": "ipython3",
   "version": "3.8.8"
  }
 },
 "nbformat": 4,
 "nbformat_minor": 5
}
