{
 "cells": [
  {
   "cell_type": "code",
   "execution_count": null,
   "id": "34978b89",
   "metadata": {},
   "outputs": [],
   "source": [
    "f = open('input').read()[:-1]"
   ]
  },
  {
   "cell_type": "code",
   "execution_count": null,
   "id": "d7a5b463",
   "metadata": {},
   "outputs": [],
   "source": [
    "f"
   ]
  },
  {
   "cell_type": "code",
   "execution_count": null,
   "id": "6347d529",
   "metadata": {},
   "outputs": [],
   "source": [
    "c = 14\n",
    "m = f[:14]"
   ]
  },
  {
   "cell_type": "code",
   "execution_count": null,
   "id": "a3f58f32",
   "metadata": {},
   "outputs": [],
   "source": [
    "while len(set(m)) < 14:\n",
    "    m = f[c-14:c]\n",
    "    c+=1"
   ]
  },
  {
   "cell_type": "code",
   "execution_count": null,
   "id": "bb2a0fe4",
   "metadata": {},
   "outputs": [],
   "source": [
    "m\n"
   ]
  },
  {
   "cell_type": "code",
   "execution_count": null,
   "id": "7b3f8bdb",
   "metadata": {},
   "outputs": [],
   "source": [
    "c"
   ]
  },
  {
   "cell_type": "code",
   "execution_count": null,
   "id": "f35b1947",
   "metadata": {},
   "outputs": [],
   "source": []
  }
 ],
 "metadata": {
  "kernelspec": {
   "display_name": "Python 3",
   "language": "python",
   "name": "python3"
  },
  "language_info": {
   "codemirror_mode": {
    "name": "ipython",
    "version": 3
   },
   "file_extension": ".py",
   "mimetype": "text/x-python",
   "name": "python",
   "nbconvert_exporter": "python",
   "pygments_lexer": "ipython3",
   "version": "3.8.8"
  }
 },
 "nbformat": 4,
 "nbformat_minor": 5
}
