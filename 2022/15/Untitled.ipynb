{
 "cells": [
  {
   "cell_type": "code",
   "execution_count": 161,
   "id": "2d337480",
   "metadata": {},
   "outputs": [],
   "source": [
    "f = open('inputtest').read()[:-1].split('\\n')"
   ]
  },
  {
   "cell_type": "code",
   "execution_count": 162,
   "id": "d1e38f9f",
   "metadata": {},
   "outputs": [],
   "source": [
    "g = [x.split(',') for x in f]\n",
    "g = [[int(x) for x in h] for h in g]"
   ]
  },
  {
   "cell_type": "code",
   "execution_count": 163,
   "id": "c90aefe1",
   "metadata": {},
   "outputs": [
    {
     "data": {
      "text/plain": [
       "[[2, 18, -2, 15],\n",
       " [9, 16, 10, 16],\n",
       " [13, 2, 15, 3],\n",
       " [12, 14, 10, 16],\n",
       " [10, 20, 10, 16],\n",
       " [14, 17, 10, 16],\n",
       " [8, 7, 2, 10],\n",
       " [2, 0, 2, 10],\n",
       " [0, 11, 2, 10],\n",
       " [20, 14, 25, 17],\n",
       " [17, 20, 21, 22],\n",
       " [16, 7, 15, 3],\n",
       " [14, 3, 15, 3],\n",
       " [20, 1, 15, 3]]"
      ]
     },
     "execution_count": 163,
     "metadata": {},
     "output_type": "execute_result"
    }
   ],
   "source": [
    "g"
   ]
  },
  {
   "cell_type": "code",
   "execution_count": 164,
   "id": "c8e1bc24",
   "metadata": {},
   "outputs": [],
   "source": [
    "from dataclasses import dataclass, field\n",
    "\n",
    "@dataclass\n",
    "class Sensor:\n",
    "    x: int\n",
    "    y: int\n",
    "    closest_x: int\n",
    "    closest_y: int\n",
    "    line: int\n",
    "    max_dist: int = field(init=False)\n",
    "    vert_dist: int = field(init=False)\n",
    "    in_range: bool = field(init=False)\n",
    "    \n",
    "    def __post_init__(self):\n",
    "        self.max_dist = abs(self.x - self.closest_x) + abs(self.y - self.closest_y)\n",
    "        self.vert_dist = abs(self.line - self.y)\n",
    "        self.in_range = True if self.vert_dist <= self.max_dist else False\n"
   ]
  },
  {
   "cell_type": "code",
   "execution_count": 165,
   "id": "b07ae898",
   "metadata": {},
   "outputs": [],
   "source": [
    "line = 10\n",
    "sensors = [Sensor(*vals, line) for vals in g]"
   ]
  },
  {
   "cell_type": "code",
   "execution_count": 172,
   "id": "db7e3ea5",
   "metadata": {},
   "outputs": [],
   "source": [
    "s_ir = [s for s in sensors if s.in_range]"
   ]
  },
  {
   "cell_type": "code",
   "execution_count": 176,
   "id": "603d247e",
   "metadata": {},
   "outputs": [],
   "source": [
    "s_irs = sorted(s_ir, key=lambda x: x.max_dist, reverse=True)"
   ]
  },
  {
   "cell_type": "code",
   "execution_count": 177,
   "id": "55082851",
   "metadata": {},
   "outputs": [
    {
     "data": {
      "text/plain": [
       "[Sensor(x=2, y=0, closest_x=2, closest_y=10, line=10, max_dist=10, vert_dist=10, in_range=True),\n",
       " Sensor(x=8, y=7, closest_x=2, closest_y=10, line=10, max_dist=9, vert_dist=3, in_range=True),\n",
       " Sensor(x=20, y=14, closest_x=25, closest_y=17, line=10, max_dist=8, vert_dist=4, in_range=True),\n",
       " Sensor(x=16, y=7, closest_x=15, closest_y=3, line=10, max_dist=5, vert_dist=3, in_range=True),\n",
       " Sensor(x=12, y=14, closest_x=10, closest_y=16, line=10, max_dist=4, vert_dist=4, in_range=True),\n",
       " Sensor(x=0, y=11, closest_x=2, closest_y=10, line=10, max_dist=3, vert_dist=1, in_range=True)]"
      ]
     },
     "execution_count": 177,
     "metadata": {},
     "output_type": "execute_result"
    }
   ],
   "source": [
    "s_irs"
   ]
  },
  {
   "cell_type": "code",
   "execution_count": 178,
   "id": "1c4e0877",
   "metadata": {},
   "outputs": [],
   "source": [
    "beacons_picked = []"
   ]
  },
  {
   "cell_type": "code",
   "execution_count": 214,
   "id": "4e68ccf5",
   "metadata": {},
   "outputs": [],
   "source": [
    "# determine the vertical distance to each sensor, then from that you can determine per sensor how much it covers\n",
    "y = 10\n",
    "\n",
    "def determine_range(s: Sensor, y: int):\n",
    "    \"\"\"For each beacon determine the range, afterwards check the overlaps.\"\"\"\n",
    "    vert_dist = abs(y - s.y)\n",
    "\n",
    "    if s.x > s.closest_x:\n",
    "        # - B ###\n",
    "        l = s.closest_x\n",
    "        r = s.closest_x + s.max_dist + 3  # plus B + S\n",
    "    elif s.x < s.closest_x: \n",
    "        l = s.closest_x - s.max_dist - 1\n",
    "        r = s.closest_x\n",
    "    elif s.x == s.closest_x:\n",
    "        l = s.x - s.max_dist / 2\n",
    "        r = s.x + s.max_dist / 2\n",
    "    return l, r\n",
    "        \n"
   ]
  },
  {
   "cell_type": "code",
   "execution_count": 215,
   "id": "3e8b3fa1",
   "metadata": {},
   "outputs": [
    {
     "data": {
      "text/plain": [
       "26"
      ]
     },
     "execution_count": 215,
     "metadata": {},
     "output_type": "execute_result"
    }
   ],
   "source": [
    "sum(determine_coverage(sensor=sensor, y=y) for sensor in sensors_ir) - 2"
   ]
  },
  {
   "cell_type": "code",
   "execution_count": 216,
   "id": "e452ad16",
   "metadata": {},
   "outputs": [
    {
     "data": {
      "text/plain": [
       "(2, 14)"
      ]
     },
     "execution_count": 216,
     "metadata": {},
     "output_type": "execute_result"
    }
   ],
   "source": [
    "determine_range(s_irs[1], y=y)"
   ]
  },
  {
   "cell_type": "code",
   "execution_count": 217,
   "id": "4026e3be",
   "metadata": {},
   "outputs": [
    {
     "data": {
      "text/plain": [
       "(-2, 2)"
      ]
     },
     "execution_count": 217,
     "metadata": {},
     "output_type": "execute_result"
    }
   ],
   "source": [
    "determine_range(s_irs[-1], y=y)"
   ]
  },
  {
   "cell_type": "code",
   "execution_count": 218,
   "id": "bc83a640",
   "metadata": {},
   "outputs": [],
   "source": [
    "ranges = [determine_range(s=s, y=y) for s in s_irs]"
   ]
  },
  {
   "cell_type": "code",
   "execution_count": 219,
   "id": "6c90653e",
   "metadata": {},
   "outputs": [
    {
     "data": {
      "text/plain": [
       "[(-3.0, 7.0), (2, 14), (16, 25), (15, 23), (10, 17), (-2, 2)]"
      ]
     },
     "execution_count": 219,
     "metadata": {},
     "output_type": "execute_result"
    }
   ],
   "source": [
    "ranges"
   ]
  },
  {
   "cell_type": "code",
   "execution_count": null,
   "id": "df560c4a",
   "metadata": {},
   "outputs": [],
   "source": []
  }
 ],
 "metadata": {
  "kernelspec": {
   "display_name": "Python 3 (ipykernel)",
   "language": "python",
   "name": "python3"
  },
  "language_info": {
   "codemirror_mode": {
    "name": "ipython",
    "version": 3
   },
   "file_extension": ".py",
   "mimetype": "text/x-python",
   "name": "python",
   "nbconvert_exporter": "python",
   "pygments_lexer": "ipython3",
   "version": "3.10.6"
  }
 },
 "nbformat": 4,
 "nbformat_minor": 5
}
