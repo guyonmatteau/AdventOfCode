{
 "cells": [
  {
   "cell_type": "code",
   "execution_count": null,
   "id": "444d65e0",
   "metadata": {},
   "outputs": [],
   "source": [
    "f = open('input').read()[:-1].split('\\n')"
   ]
  },
  {
   "cell_type": "code",
   "execution_count": null,
   "id": "c46f9d5c",
   "metadata": {},
   "outputs": [],
   "source": [
    "g = [[i.split('-') for i in h.split(',')] for h in f]"
   ]
  },
  {
   "cell_type": "code",
   "execution_count": null,
   "id": "adbbcafd",
   "metadata": {},
   "outputs": [],
   "source": [
    "k = 0 \n",
    "for j in g:\n",
    "    x1 = int(j[0][0])\n",
    "    x2 = int(j[0][1])\n",
    "    y1 = int(j[1][0])\n",
    "    y2 = int(j[1][1])\n",
    "    if (x1 <= y2) and (x2 >= y1):\n",
    "        print(j)\n",
    "        k += 1\n"
   ]
  },
  {
   "cell_type": "code",
   "execution_count": null,
   "id": "fd1aa223",
   "metadata": {},
   "outputs": [],
   "source": [
    "k"
   ]
  },
  {
   "cell_type": "code",
   "execution_count": null,
   "id": "bb6ff1be",
   "metadata": {},
   "outputs": [],
   "source": [
    "g[0]"
   ]
  },
  {
   "cell_type": "code",
   "execution_count": null,
   "id": "c00cc1bd",
   "metadata": {},
   "outputs": [],
   "source": [
    "g"
   ]
  },
  {
   "cell_type": "code",
   "execution_count": null,
   "id": "10ef8f58",
   "metadata": {},
   "outputs": [],
   "source": []
  }
 ],
 "metadata": {
  "kernelspec": {
   "display_name": "Python 3",
   "language": "python",
   "name": "python3"
  },
  "language_info": {
   "codemirror_mode": {
    "name": "ipython",
    "version": 3
   },
   "file_extension": ".py",
   "mimetype": "text/x-python",
   "name": "python",
   "nbconvert_exporter": "python",
   "pygments_lexer": "ipython3",
   "version": "3.8.8"
  }
 },
 "nbformat": 4,
 "nbformat_minor": 5
}
