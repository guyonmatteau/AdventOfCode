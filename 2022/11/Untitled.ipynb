{
 "cells": [
  {
   "cell_type": "code",
   "execution_count": 238,
   "id": "601f3929",
   "metadata": {},
   "outputs": [],
   "source": [
    "import operator\n",
    "from functools import reduce\n",
    "from typing import List\n",
    "from dataclasses import dataclass\n",
    "\n",
    "@dataclass\n",
    "class Monkey:\n",
    "    \n",
    "    items: List[str]\n",
    "    operation: str\n",
    "    op_val: int\n",
    "    divisible: int\n",
    "    test_true: int\n",
    "    test_false: int\n",
    "    inspection_count: int = 0\n",
    "    true_: int = 0\n",
    "    false_: int = 0\n",
    "    \n",
    "    def operate(self, item, div_by) -> (int, int):\n",
    "        \"\"\"Returns (item, monkey))\"\"\"\n",
    "        op_val = item if self.op_val == 0 else self.op_val\n",
    "        if self.operation == '*':\n",
    "            worry_level = item * op_val\n",
    "        else: \n",
    "            worry_level = item + op_val\n",
    "        \n",
    "        # part 1\n",
    "#         worry_level = int(worry_level / 3)\n",
    "        \n",
    "        # part 2\n",
    "        modulo = reduce(operator.mul, div_by)\n",
    "        worry_level = worry_level % modulo \n",
    "        \n",
    "        if worry_level % self.divisible == 0:\n",
    "            self.true_ += 1\n",
    "            return (worry_level, self.test_true)\n",
    "        \n",
    "        else:\n",
    "            self.false_ += 1\n",
    "            return (worry_level, self.test_false)\n",
    "        "
   ]
  },
  {
   "cell_type": "code",
   "execution_count": 248,
   "id": "55125e01",
   "metadata": {},
   "outputs": [],
   "source": [
    "f = open('input').read().split('\\n\\n')\n"
   ]
  },
  {
   "cell_type": "code",
   "execution_count": 249,
   "id": "9604d45e",
   "metadata": {},
   "outputs": [],
   "source": [
    "def get_monkey(inp):\n",
    "    inp = inp.split('\\n')\n",
    "    items = [int(x) for x in inp[1].split(': ')[1].split(',')]\n",
    "    last_char = inp[2].split(' ')[-1]\n",
    "    op_val = 0 if last_char == 'old' else int(last_char)\n",
    "    operation = '*' if '*' in inp[2] else '+'    \n",
    "    divisible = int(inp[3].split(' ')[-1])\n",
    "    test_true = int(inp[4][-1])\n",
    "    test_false = int(inp[5][-1])\n",
    "    m = Monkey(items, operation, op_val, divisible, test_true, test_false)\n",
    "    return m\n",
    "                "
   ]
  },
  {
   "cell_type": "code",
   "execution_count": 250,
   "id": "187542a7",
   "metadata": {},
   "outputs": [],
   "source": [
    "def round(monkies):\n",
    "    div_by = [m.divisible for m in monkies]\n",
    "    \n",
    "    for monkey in monkies:\n",
    "        for item in monkey.items:\n",
    "            monkey.inspection_count += 1\n",
    "            new_item, monkey_to = monkey.operate(item, div_by)\n",
    "            monkies[monkey_to].items.append(new_item)\n",
    "\n",
    "        # empty items\n",
    "        monkey.items = []\n",
    "    return monkies\n",
    "        "
   ]
  },
  {
   "cell_type": "code",
   "execution_count": 251,
   "id": "273cd384",
   "metadata": {},
   "outputs": [],
   "source": [
    "rounds = 10000\n",
    "\n",
    "monkies = [get_monkey(m) for m in f]\n",
    "\n",
    "for i in range(rounds):\n",
    "    monkies = round(monkies)\n",
    "#     print([m.inspection_count for m in monkies])\n"
   ]
  },
  {
   "cell_type": "code",
   "execution_count": 252,
   "id": "e28ac4a8",
   "metadata": {},
   "outputs": [
    {
     "data": {
      "text/plain": [
       "Monkey(items=[5830739], operation='*', op_val=7, divisible=19, test_true=6, test_false=4, inspection_count=45924, true_=27626, false_=18298)"
      ]
     },
     "execution_count": 252,
     "metadata": {},
     "output_type": "execute_result"
    }
   ],
   "source": [
    "monkies[0]"
   ]
  },
  {
   "cell_type": "code",
   "execution_count": 253,
   "id": "2fa2ec97",
   "metadata": {},
   "outputs": [
    {
     "data": {
      "text/plain": [
       "[Monkey(items=[5830739], operation='*', op_val=7, divisible=19, test_true=6, test_false=4, inspection_count=45924, true_=27626, false_=18298),\n",
       " Monkey(items=[2709285, 2709285, 8818885, 1430465, 2760475, 5823535, 4721510, 3167405, 9568288, 8319682, 8644552, 7719082, 7515592], operation='+', op_val=4, divisible=3, test_true=7, test_false=5, inspection_count=131087, true_=38865, false_=92222),\n",
       " Monkey(items=[5337445, 8637127, 4394197, 4394197, 8311847, 2185727, 3897437, 6289705, 1040860, 8127100, 6453295, 3911665], operation='*', op_val=5, divisible=13, test_true=5, test_false=1, inspection_count=87798, true_=3950, false_=83848),\n",
       " Monkey(items=[1568157, 1619347, 1619347, 9568300, 1328274, 1328274, 2613994, 7719094, 7515604, 7515604], operation='*', op_val=0, divisible=17, test_true=0, test_false=4, inspection_count=95174, true_=6053, false_=89121),\n",
       " Monkey(items=[], operation='+', op_val=1, divisible=2, test_true=6, test_false=2, inspection_count=107420, true_=46752, false_=60668),\n",
       " Monkey(items=[], operation='+', op_val=8, divisible=11, test_true=7, test_false=3, inspection_count=96174, true_=2707, false_=93467),\n",
       " Monkey(items=[], operation='+', op_val=2, divisible=5, test_true=2, test_false=1, inspection_count=74384, true_=27139, false_=47245),\n",
       " Monkey(items=[], operation='+', op_val=5, divisible=7, test_true=3, test_false=0, inspection_count=41580, true_=1713, false_=39867)]"
      ]
     },
     "execution_count": 253,
     "metadata": {},
     "output_type": "execute_result"
    }
   ],
   "source": [
    "monkies"
   ]
  },
  {
   "cell_type": "code",
   "execution_count": 254,
   "id": "39eff336",
   "metadata": {},
   "outputs": [
    {
     "data": {
      "text/plain": [
       "[41580, 45924, 74384, 87798, 95174, 96174, 107420, 131087]"
      ]
     },
     "execution_count": 254,
     "metadata": {},
     "output_type": "execute_result"
    }
   ],
   "source": [
    "ranked_counts = sorted(m.inspection_count for m in monkies)\n",
    "\n",
    "ranked_counts"
   ]
  },
  {
   "cell_type": "code",
   "execution_count": 255,
   "id": "f14d6b22",
   "metadata": {},
   "outputs": [
    {
     "data": {
      "text/plain": [
       "14081365540"
      ]
     },
     "execution_count": 255,
     "metadata": {},
     "output_type": "execute_result"
    }
   ],
   "source": [
    "ranked_counts[-1] * ranked_counts[-2]"
   ]
  },
  {
   "cell_type": "code",
   "execution_count": null,
   "id": "ed753658",
   "metadata": {},
   "outputs": [],
   "source": []
  }
 ],
 "metadata": {
  "kernelspec": {
   "display_name": "Python 3 (ipykernel)",
   "language": "python",
   "name": "python3"
  },
  "language_info": {
   "codemirror_mode": {
    "name": "ipython",
    "version": 3
   },
   "file_extension": ".py",
   "mimetype": "text/x-python",
   "name": "python",
   "nbconvert_exporter": "python",
   "pygments_lexer": "ipython3",
   "version": "3.10.6"
  }
 },
 "nbformat": 4,
 "nbformat_minor": 5
}
