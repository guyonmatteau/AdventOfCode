{
 "cells": [
  {
   "cell_type": "code",
   "execution_count": null,
   "id": "d2438fc2",
   "metadata": {},
   "outputs": [],
   "source": [
    "f = open('input').read()[:-1].split('\\n')"
   ]
  },
  {
   "cell_type": "code",
   "execution_count": null,
   "id": "454e8560",
   "metadata": {},
   "outputs": [],
   "source": [
    "g = [[int(x) for x in y] for y in f]"
   ]
  },
  {
   "cell_type": "code",
   "execution_count": null,
   "id": "25e213e1",
   "metadata": {},
   "outputs": [],
   "source": [
    "# part 1\n",
    "def get_sur_trees(r, c, scenic=True):\n",
    "    val = g[r][c]\n",
    "    left = g[r][0:c]\n",
    "    right = g[r][c+1:len(g[0])]\n",
    "    top = [g[x][c] for x in range(0, r)]\n",
    "    bottom = [g[x][c] for x in range(r+1, len(g))]\n",
    "    if scenic:\n",
    "        left.reverse()\n",
    "        top.reverse()\n",
    "    return val, left, right, top, bottom\n"
   ]
  },
  {
   "cell_type": "code",
   "execution_count": null,
   "id": "50945e1d",
   "metadata": {},
   "outputs": [],
   "source": [
    "c = 0\n",
    "for i in range(1, len(g) - 1):\n",
    "    for j in range(1, len(g[0]) - 1):\n",
    "        val, left, right, top, bottom = get_sur_trees(i, j)\n",
    "        if any(val > h for h in [max(k) for k in [left, right, top, bottom]]):\n",
    "            c += 1\n"
   ]
  },
  {
   "cell_type": "code",
   "execution_count": null,
   "id": "97d69e8c",
   "metadata": {},
   "outputs": [],
   "source": [
    "c + 2 * len(g[0]) + 2 * (len(g) - 2)"
   ]
  },
  {
   "cell_type": "code",
   "execution_count": null,
   "id": "6a352a79",
   "metadata": {},
   "outputs": [],
   "source": [
    "# part 2"
   ]
  },
  {
   "cell_type": "code",
   "execution_count": null,
   "id": "e315e6dc",
   "metadata": {},
   "outputs": [],
   "source": [
    "def get_scenic(i, j):\n",
    "    val, left, right, top, bottom = get_sur_trees(i, j, scenic=True)\n",
    "    s = []\n",
    "    for dir_ in [left, right, top, bottom]:\n",
    "        s.append(get_next_max(dir_, val))\n",
    "    return s[0] * s[1] * s[2] * s[3]"
   ]
  },
  {
   "cell_type": "code",
   "execution_count": null,
   "id": "f48bf15b",
   "metadata": {},
   "outputs": [],
   "source": [
    "scenics = []\n",
    "c = 0\n",
    "for i in range(1, len(g) - 1):\n",
    "    for j in range(1, len(g[0]) - 1):\n",
    "        scenics.append(get_scenic(i, j))"
   ]
  },
  {
   "cell_type": "code",
   "execution_count": null,
   "id": "82941076",
   "metadata": {},
   "outputs": [],
   "source": [
    "def get_next_max(arr, val):\n",
    "    if max(arr) < val:\n",
    "        return len(arr)\n",
    "    c = 1\n",
    "    for i in arr:\n",
    "        if i < val:\n",
    "            c += 1\n",
    "        else: \n",
    "            break\n",
    "    return c\n",
    "    "
   ]
  },
  {
   "cell_type": "code",
   "execution_count": null,
   "id": "b1db82fa",
   "metadata": {},
   "outputs": [],
   "source": [
    "get_next_max(scenics, 5)"
   ]
  },
  {
   "cell_type": "code",
   "execution_count": null,
   "id": "3e541b9d",
   "metadata": {},
   "outputs": [],
   "source": [
    "max(scenics)"
   ]
  },
  {
   "cell_type": "code",
   "execution_count": null,
   "id": "df70596f",
   "metadata": {},
   "outputs": [],
   "source": []
  }
 ],
 "metadata": {
  "kernelspec": {
   "display_name": "Python 3",
   "language": "python",
   "name": "python3"
  },
  "language_info": {
   "codemirror_mode": {
    "name": "ipython",
    "version": 3
   },
   "file_extension": ".py",
   "mimetype": "text/x-python",
   "name": "python",
   "nbconvert_exporter": "python",
   "pygments_lexer": "ipython3",
   "version": "3.8.8"
  }
 },
 "nbformat": 4,
 "nbformat_minor": 5
}
